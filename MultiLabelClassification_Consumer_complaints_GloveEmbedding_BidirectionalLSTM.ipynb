{
  "nbformat": 4,
  "nbformat_minor": 0,
  "metadata": {
    "colab": {
      "name": "MultiLabelClassification_Consumer_complaints_GloveEmbedding_BidirectionalLSTM.ipynb",
      "provenance": [],
      "toc_visible": true,
      "mount_file_id": "1yGgtJ9yon_qkN2FrWF2qV-fdS7HkYYTG",
      "authorship_tag": "ABX9TyMKrM4WInRRHbetu4MRGWh+",
      "include_colab_link": true
    },
    "kernelspec": {
      "name": "python3",
      "display_name": "Python 3"
    },
    "accelerator": "GPU"
  },
  "cells": [
    {
      "cell_type": "markdown",
      "metadata": {
        "id": "view-in-github",
        "colab_type": "text"
      },
      "source": [
        "<a href=\"https://colab.research.google.com/github/ANUPRIYAR/Multilabel_Classification_NLP_LSTM/blob/main/MultiLabelClassification_Consumer_complaints_GloveEmbedding_BidirectionalLSTM.ipynb\" target=\"_parent\"><img src=\"https://colab.research.google.com/assets/colab-badge.svg\" alt=\"Open In Colab\"/></a>"
      ]
    },
    {
      "cell_type": "markdown",
      "metadata": {
        "id": "nXXmLj7TvsNH"
      },
      "source": [
        "Dataset Source: https://catalog.data.gov/dataset/consumer-complaint-database\r\n",
        "\r\n",
        "We will only be using 'Consumer complaint narrative' and 'Product' field for Multi Label Classification model. Other feilds are just used for EDA."
      ]
    },
    {
      "cell_type": "code",
      "metadata": {
        "id": "Cw1-un5tW7oz"
      },
      "source": [
        "from google.colab import drive"
      ],
      "execution_count": 2,
      "outputs": []
    },
    {
      "cell_type": "code",
      "metadata": {
        "colab": {
          "base_uri": "https://localhost:8080/"
        },
        "id": "IrADDZq_bdLh",
        "outputId": "f99d5c2d-e828-4de8-d5fa-21f716bb046d"
      },
      "source": [
        "!unzip /content/drive/MyDrive/Deep_learning/complaints.csv.zip"
      ],
      "execution_count": 3,
      "outputs": [
        {
          "output_type": "stream",
          "text": [
            "Archive:  /content/drive/MyDrive/Deep_learning/complaints.csv.zip\n",
            "  inflating: complaints.csv          \n"
          ],
          "name": "stdout"
        }
      ]
    },
    {
      "cell_type": "code",
      "metadata": {
        "id": "9n_eQ94WbocG"
      },
      "source": [
        "import pandas as pd\r\n",
        "import matplotlib.pyplot as plt\r\n",
        "import seaborn as sns\r\n",
        "import warnings\r\n",
        "warnings.filterwarnings('ignore')"
      ],
      "execution_count": 4,
      "outputs": []
    },
    {
      "cell_type": "code",
      "metadata": {
        "colab": {
          "base_uri": "https://localhost:8080/",
          "height": 612
        },
        "id": "8KGyFNqBceYl",
        "outputId": "15aff5fd-fab0-414f-8e3b-078a38f2db04"
      },
      "source": [
        "data = pd.read_csv('/content/complaints.csv')\r\n",
        "data.head()"
      ],
      "execution_count": 5,
      "outputs": [
        {
          "output_type": "execute_result",
          "data": {
            "text/html": [
              "<div>\n",
              "<style scoped>\n",
              "    .dataframe tbody tr th:only-of-type {\n",
              "        vertical-align: middle;\n",
              "    }\n",
              "\n",
              "    .dataframe tbody tr th {\n",
              "        vertical-align: top;\n",
              "    }\n",
              "\n",
              "    .dataframe thead th {\n",
              "        text-align: right;\n",
              "    }\n",
              "</style>\n",
              "<table border=\"1\" class=\"dataframe\">\n",
              "  <thead>\n",
              "    <tr style=\"text-align: right;\">\n",
              "      <th></th>\n",
              "      <th>Date received</th>\n",
              "      <th>Product</th>\n",
              "      <th>Sub-product</th>\n",
              "      <th>Issue</th>\n",
              "      <th>Sub-issue</th>\n",
              "      <th>Consumer complaint narrative</th>\n",
              "      <th>Company public response</th>\n",
              "      <th>Company</th>\n",
              "      <th>State</th>\n",
              "      <th>ZIP code</th>\n",
              "      <th>Tags</th>\n",
              "      <th>Consumer consent provided?</th>\n",
              "      <th>Submitted via</th>\n",
              "      <th>Date sent to company</th>\n",
              "      <th>Company response to consumer</th>\n",
              "      <th>Timely response?</th>\n",
              "      <th>Consumer disputed?</th>\n",
              "      <th>Complaint ID</th>\n",
              "    </tr>\n",
              "  </thead>\n",
              "  <tbody>\n",
              "    <tr>\n",
              "      <th>0</th>\n",
              "      <td>2019-09-24</td>\n",
              "      <td>Debt collection</td>\n",
              "      <td>I do not know</td>\n",
              "      <td>Attempts to collect debt not owed</td>\n",
              "      <td>Debt is not yours</td>\n",
              "      <td>transworld systems inc. \\nis trying to collect...</td>\n",
              "      <td>NaN</td>\n",
              "      <td>TRANSWORLD SYSTEMS INC</td>\n",
              "      <td>FL</td>\n",
              "      <td>335XX</td>\n",
              "      <td>NaN</td>\n",
              "      <td>Consent provided</td>\n",
              "      <td>Web</td>\n",
              "      <td>2019-09-24</td>\n",
              "      <td>Closed with explanation</td>\n",
              "      <td>Yes</td>\n",
              "      <td>NaN</td>\n",
              "      <td>3384392</td>\n",
              "    </tr>\n",
              "    <tr>\n",
              "      <th>1</th>\n",
              "      <td>2019-09-19</td>\n",
              "      <td>Credit reporting, credit repair services, or o...</td>\n",
              "      <td>Credit reporting</td>\n",
              "      <td>Incorrect information on your report</td>\n",
              "      <td>Information belongs to someone else</td>\n",
              "      <td>NaN</td>\n",
              "      <td>Company has responded to the consumer and the ...</td>\n",
              "      <td>Experian Information Solutions Inc.</td>\n",
              "      <td>PA</td>\n",
              "      <td>15206</td>\n",
              "      <td>NaN</td>\n",
              "      <td>Consent not provided</td>\n",
              "      <td>Web</td>\n",
              "      <td>2019-09-20</td>\n",
              "      <td>Closed with non-monetary relief</td>\n",
              "      <td>Yes</td>\n",
              "      <td>NaN</td>\n",
              "      <td>3379500</td>\n",
              "    </tr>\n",
              "    <tr>\n",
              "      <th>2</th>\n",
              "      <td>2019-11-08</td>\n",
              "      <td>Debt collection</td>\n",
              "      <td>I do not know</td>\n",
              "      <td>Communication tactics</td>\n",
              "      <td>Frequent or repeated calls</td>\n",
              "      <td>Over the past 2 weeks, I have been receiving e...</td>\n",
              "      <td>NaN</td>\n",
              "      <td>Diversified Consultants, Inc.</td>\n",
              "      <td>NC</td>\n",
              "      <td>275XX</td>\n",
              "      <td>NaN</td>\n",
              "      <td>Consent provided</td>\n",
              "      <td>Web</td>\n",
              "      <td>2019-11-08</td>\n",
              "      <td>Closed with explanation</td>\n",
              "      <td>Yes</td>\n",
              "      <td>NaN</td>\n",
              "      <td>3433198</td>\n",
              "    </tr>\n",
              "    <tr>\n",
              "      <th>3</th>\n",
              "      <td>2019-09-15</td>\n",
              "      <td>Debt collection</td>\n",
              "      <td>Other debt</td>\n",
              "      <td>Attempts to collect debt not owed</td>\n",
              "      <td>Debt was result of identity theft</td>\n",
              "      <td>Pioneer has committed several federal violatio...</td>\n",
              "      <td>NaN</td>\n",
              "      <td>Pioneer Capital Solutions Inc</td>\n",
              "      <td>CA</td>\n",
              "      <td>925XX</td>\n",
              "      <td>NaN</td>\n",
              "      <td>Consent provided</td>\n",
              "      <td>Web</td>\n",
              "      <td>2019-09-15</td>\n",
              "      <td>Closed with explanation</td>\n",
              "      <td>Yes</td>\n",
              "      <td>NaN</td>\n",
              "      <td>3374555</td>\n",
              "    </tr>\n",
              "    <tr>\n",
              "      <th>4</th>\n",
              "      <td>2020-11-30</td>\n",
              "      <td>Credit reporting, credit repair services, or o...</td>\n",
              "      <td>Credit reporting</td>\n",
              "      <td>Incorrect information on your report</td>\n",
              "      <td>Account status incorrect</td>\n",
              "      <td>NaN</td>\n",
              "      <td>Company has responded to the consumer and the ...</td>\n",
              "      <td>Experian Information Solutions Inc.</td>\n",
              "      <td>MA</td>\n",
              "      <td>01605</td>\n",
              "      <td>NaN</td>\n",
              "      <td>NaN</td>\n",
              "      <td>Phone</td>\n",
              "      <td>2020-11-30</td>\n",
              "      <td>Closed with explanation</td>\n",
              "      <td>Yes</td>\n",
              "      <td>NaN</td>\n",
              "      <td>3981945</td>\n",
              "    </tr>\n",
              "  </tbody>\n",
              "</table>\n",
              "</div>"
            ],
            "text/plain": [
              "  Date received  ... Complaint ID\n",
              "0    2019-09-24  ...      3384392\n",
              "1    2019-09-19  ...      3379500\n",
              "2    2019-11-08  ...      3433198\n",
              "3    2019-09-15  ...      3374555\n",
              "4    2020-11-30  ...      3981945\n",
              "\n",
              "[5 rows x 18 columns]"
            ]
          },
          "metadata": {
            "tags": []
          },
          "execution_count": 5
        }
      ]
    },
    {
      "cell_type": "code",
      "metadata": {
        "colab": {
          "base_uri": "https://localhost:8080/"
        },
        "id": "kyV0uFwjg93o",
        "outputId": "353eb704-4685-4bc0-a6ac-160f40b0a182"
      },
      "source": [
        "data.shape"
      ],
      "execution_count": 6,
      "outputs": [
        {
          "output_type": "execute_result",
          "data": {
            "text/plain": [
              "(1869768, 18)"
            ]
          },
          "metadata": {
            "tags": []
          },
          "execution_count": 6
        }
      ]
    },
    {
      "cell_type": "code",
      "metadata": {
        "colab": {
          "base_uri": "https://localhost:8080/",
          "height": 865
        },
        "id": "C1-9bQr4ck55",
        "outputId": "3a393b3d-d571-4ad6-afe5-5b67423aa10e"
      },
      "source": [
        "plt.figure(figsize=(16,8))\r\n",
        "data['Product'].value_counts().plot(kind='bar')"
      ],
      "execution_count": 7,
      "outputs": [
        {
          "output_type": "execute_result",
          "data": {
            "text/plain": [
              "<matplotlib.axes._subplots.AxesSubplot at 0x7fbba62302b0>"
            ]
          },
          "metadata": {
            "tags": []
          },
          "execution_count": 7
        },
        {
          "output_type": "display_data",
          "data": {
            "image/png": "[encoded data removed]",
            "text/plain": [
              "<Figure size 1152x576 with 1 Axes>"
            ]
          },
          "metadata": {
            "tags": [],
            "needs_background": "light"
          }
        }
      ]
    },
    {
      "cell_type": "code",
      "metadata": {
        "colab": {
          "base_uri": "https://localhost:8080/"
        },
        "id": "aDuEPWXdeW4B",
        "outputId": "ecf8c8c8-fbc8-4419-fc07-8dd75b2e984e"
      },
      "source": [
        "data['Product'].nunique()"
      ],
      "execution_count": 8,
      "outputs": [
        {
          "output_type": "execute_result",
          "data": {
            "text/plain": [
              "18"
            ]
          },
          "metadata": {
            "tags": []
          },
          "execution_count": 8
        }
      ]
    },
    {
      "cell_type": "markdown",
      "metadata": {
        "id": "YkHoPvjIed8W"
      },
      "source": [
        "If we consider Product field as categorical variable, then there are 18 categories."
      ]
    },
    {
      "cell_type": "code",
      "metadata": {
        "colab": {
          "base_uri": "https://localhost:8080/"
        },
        "id": "ILBmkUPcdDLw",
        "outputId": "53c1ab8d-fd2d-40f7-d14b-d1fc75b8fde0"
      },
      "source": [
        "data['Sub-product'].value_counts()"
      ],
      "execution_count": 9,
      "outputs": [
        {
          "output_type": "execute_result",
          "data": {
            "text/plain": [
              "Credit reporting                              566753\n",
              "Checking account                              118233\n",
              "Other mortgage                                 86635\n",
              "General-purpose credit card or charge card     72389\n",
              "Conventional fixed mortgage                    70613\n",
              "                                               ...  \n",
              "Credit repair                                    103\n",
              "Traveler’s/Cashier’s checks                       88\n",
              "Transit card                                      37\n",
              "Electronic Benefit Transfer / EBT card            12\n",
              "Student prepaid card                              12\n",
              "Name: Sub-product, Length: 76, dtype: int64"
            ]
          },
          "metadata": {
            "tags": []
          },
          "execution_count": 9
        }
      ]
    },
    {
      "cell_type": "code",
      "metadata": {
        "colab": {
          "base_uri": "https://localhost:8080/"
        },
        "id": "hK52-U0Kd2Tb",
        "outputId": "f53e2c62-ea70-4d4c-88a8-829a6c160485"
      },
      "source": [
        "data['Sub-product'].nunique()"
      ],
      "execution_count": 10,
      "outputs": [
        {
          "output_type": "execute_result",
          "data": {
            "text/plain": [
              "76"
            ]
          },
          "metadata": {
            "tags": []
          },
          "execution_count": 10
        }
      ]
    },
    {
      "cell_type": "markdown",
      "metadata": {
        "id": "8BBgyNqLeC3g"
      },
      "source": [
        "There are 76 unique values for Sub-product , hence better to not consider as categorical variable"
      ]
    },
    {
      "cell_type": "markdown",
      "metadata": {
        "id": "O5ihMgp7tDmR"
      },
      "source": [
        "# **Reducing the number of categorical Varibales in Product field**"
      ]
    },
    {
      "cell_type": "code",
      "metadata": {
        "id": "Lq7g3IdVeA57"
      },
      "source": [
        "# Reducing the number of Categorical variables\r\n",
        "\r\n",
        "# Merging categories- 'Credit card' and 'Prepaid Card' into 'Credit Card or prepaid Card'\r\n",
        "data.loc[data['Product'] == 'Credit card', 'Product'] = 'Credit card or prepaid card'\r\n",
        "data.loc[data['Product'] == 'Prepaid card', 'Product'] = 'Credit card or prepaid card'\r\n"
      ],
      "execution_count": 11,
      "outputs": []
    },
    {
      "cell_type": "code",
      "metadata": {
        "colab": {
          "base_uri": "https://localhost:8080/"
        },
        "id": "eGvZaGezfh80",
        "outputId": "c37bd851-7b3b-47fa-b184-4e310ff9cd07"
      },
      "source": [
        "data.loc[data['Product'] == 'Credit card', 'Product'].count(), data.loc[data['Product'] == 'Prepaid card', 'Product'].count()"
      ],
      "execution_count": 12,
      "outputs": [
        {
          "output_type": "execute_result",
          "data": {
            "text/plain": [
              "(0, 0)"
            ]
          },
          "metadata": {
            "tags": []
          },
          "execution_count": 12
        }
      ]
    },
    {
      "cell_type": "code",
      "metadata": {
        "id": "eZ1Qk85_koh0"
      },
      "source": [
        "# Merging 'Virtual currency' and 'Money transfers' into 'Money transfer, virtual currency, or money service'\r\n",
        "data.loc[data['Product'] == 'Virtual currency', 'Product'] = 'Money transfer, virtual currency, or money service'\r\n",
        "data.loc[data['Product'] == 'Money transfers', 'Product'] = 'Money transfer, virtual currency, or money service'\r\n",
        "\r\n",
        "data.loc[data['Product'] == 'Payday loan', 'Product'] = 'Payday loan, title loan, or personal loan'"
      ],
      "execution_count": 13,
      "outputs": []
    },
    {
      "cell_type": "code",
      "metadata": {
        "id": "D17orlHhrC2m"
      },
      "source": [
        "data.loc[data['Product'] == 'Student loan', 'Product'] = 'Student loan or Consumer loan or Vehicle loan'\r\n",
        "data.loc[data['Product'] == 'Consumer Loan', 'Product'] = 'Student loan or Consumer loan or Vehicle loan'\r\n",
        "data.loc[data['Product'] == 'Vehicle loan or lease', 'Product'] = 'Student loan or Consumer loan or Vehicle loan'"
      ],
      "execution_count": 14,
      "outputs": []
    },
    {
      "cell_type": "code",
      "metadata": {
        "id": "3hN7ye-vrsEN"
      },
      "source": [
        "data.loc[data['Product'] == 'Payday loan, title loan, or personal loan', 'Product'] = 'Student loan or Consumer loan or Vehicle loan or other loans'\r\n",
        "data.loc[data['Product'] == 'Student loan or Consumer loan or Vehicle loan', 'Product'] = 'Student loan or Consumer loan or Vehicle loan or other loans'"
      ],
      "execution_count": 15,
      "outputs": []
    },
    {
      "cell_type": "code",
      "metadata": {
        "colab": {
          "base_uri": "https://localhost:8080/"
        },
        "id": "4MQhDJRZsDLL",
        "outputId": "c5f088ba-907d-4275-971a-72bdd29ae5a8"
      },
      "source": [
        "data['Product'].nunique()"
      ],
      "execution_count": 16,
      "outputs": [
        {
          "output_type": "execute_result",
          "data": {
            "text/plain": [
              "10"
            ]
          },
          "metadata": {
            "tags": []
          },
          "execution_count": 16
        }
      ]
    },
    {
      "cell_type": "code",
      "metadata": {
        "colab": {
          "base_uri": "https://localhost:8080/",
          "height": 865
        },
        "id": "rQI5kQ3CssbJ",
        "outputId": "5c5187d3-01dc-42cf-e297-e05a4b905465"
      },
      "source": [
        "plt.figure(figsize=(16,8))\r\n",
        "data['Product'].value_counts().plot(kind='bar')"
      ],
      "execution_count": 17,
      "outputs": [
        {
          "output_type": "execute_result",
          "data": {
            "text/plain": [
              "<matplotlib.axes._subplots.AxesSubplot at 0x7fbba614b5f8>"
            ]
          },
          "metadata": {
            "tags": []
          },
          "execution_count": 17
        },
        {
          "output_type": "display_data",
          "data": {
            "image/png": "[encoded data removed]",
            "text/plain": [
              "<Figure size 1152x576 with 1 Axes>"
            ]
          },
          "metadata": {
            "tags": [],
            "needs_background": "light"
          }
        }
      ]
    },
    {
      "cell_type": "markdown",
      "metadata": {
        "id": "WFYRpfMp40Ol"
      },
      "source": [
        "# **Handling Missing Values**"
      ]
    },
    {
      "cell_type": "code",
      "metadata": {
        "colab": {
          "base_uri": "https://localhost:8080/"
        },
        "id": "B4XtFghps2Ff",
        "outputId": "8050e38f-489e-439c-87ef-04d74e3934da"
      },
      "source": [
        "data['Company public response'].isnull().sum() , data['Consumer disputed?'].isnull().sum() , data['Tags'].isnull().sum() , data['Company public response'].isnull().sum() "
      ],
      "execution_count": 18,
      "outputs": [
        {
          "output_type": "execute_result",
          "data": {
            "text/plain": [
              "(1096549, 1101294, 1626269, 1096549)"
            ]
          },
          "metadata": {
            "tags": []
          },
          "execution_count": 18
        }
      ]
    },
    {
      "cell_type": "markdown",
      "metadata": {
        "id": "wVQC5b-Ht6v-"
      },
      "source": [
        "There are a huge set of rows with Null values , hence we can delete the column"
      ]
    },
    {
      "cell_type": "code",
      "metadata": {
        "id": "PQzB_I7jtz05"
      },
      "source": [
        "data.drop(['Company public response', 'Consumer disputed?', 'Tags', 'Company public response'], axis=1, inplace=True)"
      ],
      "execution_count": 19,
      "outputs": []
    },
    {
      "cell_type": "code",
      "metadata": {
        "colab": {
          "base_uri": "https://localhost:8080/",
          "height": 213
        },
        "id": "l3QBdf8pvX-U",
        "outputId": "9a662d79-68ca-40cb-b068-5d64e0da7159"
      },
      "source": [
        "data.head(2)"
      ],
      "execution_count": 20,
      "outputs": [
        {
          "output_type": "execute_result",
          "data": {
            "text/html": [
              "<div>\n",
              "<style scoped>\n",
              "    .dataframe tbody tr th:only-of-type {\n",
              "        vertical-align: middle;\n",
              "    }\n",
              "\n",
              "    .dataframe tbody tr th {\n",
              "        vertical-align: top;\n",
              "    }\n",
              "\n",
              "    .dataframe thead th {\n",
              "        text-align: right;\n",
              "    }\n",
              "</style>\n",
              "<table border=\"1\" class=\"dataframe\">\n",
              "  <thead>\n",
              "    <tr style=\"text-align: right;\">\n",
              "      <th></th>\n",
              "      <th>Date received</th>\n",
              "      <th>Product</th>\n",
              "      <th>Sub-product</th>\n",
              "      <th>Issue</th>\n",
              "      <th>Sub-issue</th>\n",
              "      <th>Consumer complaint narrative</th>\n",
              "      <th>Company</th>\n",
              "      <th>State</th>\n",
              "      <th>ZIP code</th>\n",
              "      <th>Consumer consent provided?</th>\n",
              "      <th>Submitted via</th>\n",
              "      <th>Date sent to company</th>\n",
              "      <th>Company response to consumer</th>\n",
              "      <th>Timely response?</th>\n",
              "      <th>Complaint ID</th>\n",
              "    </tr>\n",
              "  </thead>\n",
              "  <tbody>\n",
              "    <tr>\n",
              "      <th>0</th>\n",
              "      <td>2019-09-24</td>\n",
              "      <td>Debt collection</td>\n",
              "      <td>I do not know</td>\n",
              "      <td>Attempts to collect debt not owed</td>\n",
              "      <td>Debt is not yours</td>\n",
              "      <td>transworld systems inc. \\nis trying to collect...</td>\n",
              "      <td>TRANSWORLD SYSTEMS INC</td>\n",
              "      <td>FL</td>\n",
              "      <td>335XX</td>\n",
              "      <td>Consent provided</td>\n",
              "      <td>Web</td>\n",
              "      <td>2019-09-24</td>\n",
              "      <td>Closed with explanation</td>\n",
              "      <td>Yes</td>\n",
              "      <td>3384392</td>\n",
              "    </tr>\n",
              "    <tr>\n",
              "      <th>1</th>\n",
              "      <td>2019-09-19</td>\n",
              "      <td>Credit reporting, credit repair services, or o...</td>\n",
              "      <td>Credit reporting</td>\n",
              "      <td>Incorrect information on your report</td>\n",
              "      <td>Information belongs to someone else</td>\n",
              "      <td>NaN</td>\n",
              "      <td>Experian Information Solutions Inc.</td>\n",
              "      <td>PA</td>\n",
              "      <td>15206</td>\n",
              "      <td>Consent not provided</td>\n",
              "      <td>Web</td>\n",
              "      <td>2019-09-20</td>\n",
              "      <td>Closed with non-monetary relief</td>\n",
              "      <td>Yes</td>\n",
              "      <td>3379500</td>\n",
              "    </tr>\n",
              "  </tbody>\n",
              "</table>\n",
              "</div>"
            ],
            "text/plain": [
              "  Date received  ... Complaint ID\n",
              "0    2019-09-24  ...      3384392\n",
              "1    2019-09-19  ...      3379500\n",
              "\n",
              "[2 rows x 15 columns]"
            ]
          },
          "metadata": {
            "tags": []
          },
          "execution_count": 20
        }
      ]
    },
    {
      "cell_type": "markdown",
      "metadata": {
        "id": "Iki9wGOA47SK"
      },
      "source": [
        "**Summary of all the columns with missing values**"
      ]
    },
    {
      "cell_type": "code",
      "metadata": {
        "colab": {
          "base_uri": "https://localhost:8080/"
        },
        "id": "-22lP8Fv1tfx",
        "outputId": "a1164791-19de-4d4b-e38f-f722a34c3cf2"
      },
      "source": [
        "#  Get the summary number missing fields in each column\r\n",
        "data.isnull().sum()"
      ],
      "execution_count": 21,
      "outputs": [
        {
          "output_type": "execute_result",
          "data": {
            "text/plain": [
              "Date received                         0\n",
              "Product                               0\n",
              "Sub-product                      235165\n",
              "Issue                                 0\n",
              "Sub-issue                        592093\n",
              "Consumer complaint narrative    1233643\n",
              "Company                               0\n",
              "State                             34968\n",
              "ZIP code                         182847\n",
              "Consumer consent provided?       666447\n",
              "Submitted via                         0\n",
              "Date sent to company                  0\n",
              "Company response to consumer          2\n",
              "Timely response?                      0\n",
              "Complaint ID                          0\n",
              "dtype: int64"
            ]
          },
          "metadata": {
            "tags": []
          },
          "execution_count": 21
        }
      ]
    },
    {
      "cell_type": "code",
      "metadata": {
        "id": "4ZwbqhPN2ZJE"
      },
      "source": [
        "data.drop(['Sub-product', 'Sub-issue' ,'ZIP code', 'Consumer consent provided?', 'State' ], axis=1, inplace=True)"
      ],
      "execution_count": 22,
      "outputs": []
    },
    {
      "cell_type": "code",
      "metadata": {
        "colab": {
          "base_uri": "https://localhost:8080/"
        },
        "id": "DgCB2TFw3pPx",
        "outputId": "27ee5a52-8d85-49f8-c016-9a0c7e90f311"
      },
      "source": [
        "data.isnull().sum()"
      ],
      "execution_count": 23,
      "outputs": [
        {
          "output_type": "execute_result",
          "data": {
            "text/plain": [
              "Date received                         0\n",
              "Product                               0\n",
              "Issue                                 0\n",
              "Consumer complaint narrative    1233643\n",
              "Company                               0\n",
              "Submitted via                         0\n",
              "Date sent to company                  0\n",
              "Company response to consumer          2\n",
              "Timely response?                      0\n",
              "Complaint ID                          0\n",
              "dtype: int64"
            ]
          },
          "metadata": {
            "tags": []
          },
          "execution_count": 23
        }
      ]
    },
    {
      "cell_type": "markdown",
      "metadata": {
        "id": "OHjgL6224HBb"
      },
      "source": [
        "We can see 'Consumer complaint narrative' is having around 12 lakhs missing fields, Since we will be parsing the narrative to find the label of the complaint, missing rows would not make any sense."
      ]
    },
    {
      "cell_type": "code",
      "metadata": {
        "id": "mphJXH9R31Xt"
      },
      "source": [
        "# Hence we are dropping all the rows with missing fields\r\n",
        "data.dropna(inplace=True)"
      ],
      "execution_count": 24,
      "outputs": []
    },
    {
      "cell_type": "code",
      "metadata": {
        "colab": {
          "base_uri": "https://localhost:8080/"
        },
        "id": "EIWE3Wi937eZ",
        "outputId": "4240c2d6-c2c8-4703-dd2f-254f844252cf"
      },
      "source": [
        "data.shape"
      ],
      "execution_count": 25,
      "outputs": [
        {
          "output_type": "execute_result",
          "data": {
            "text/plain": [
              "(636124, 10)"
            ]
          },
          "metadata": {
            "tags": []
          },
          "execution_count": 25
        }
      ]
    },
    {
      "cell_type": "code",
      "metadata": {
        "colab": {
          "base_uri": "https://localhost:8080/",
          "height": 657
        },
        "id": "BtJJSncJ4qgQ",
        "outputId": "282d9d1a-6492-4eca-e9b7-31d145753839"
      },
      "source": [
        "data.reset_index()"
      ],
      "execution_count": 26,
      "outputs": [
        {
          "output_type": "execute_result",
          "data": {
            "text/html": [
              "<div>\n",
              "<style scoped>\n",
              "    .dataframe tbody tr th:only-of-type {\n",
              "        vertical-align: middle;\n",
              "    }\n",
              "\n",
              "    .dataframe tbody tr th {\n",
              "        vertical-align: top;\n",
              "    }\n",
              "\n",
              "    .dataframe thead th {\n",
              "        text-align: right;\n",
              "    }\n",
              "</style>\n",
              "<table border=\"1\" class=\"dataframe\">\n",
              "  <thead>\n",
              "    <tr style=\"text-align: right;\">\n",
              "      <th></th>\n",
              "      <th>index</th>\n",
              "      <th>Date received</th>\n",
              "      <th>Product</th>\n",
              "      <th>Issue</th>\n",
              "      <th>Consumer complaint narrative</th>\n",
              "      <th>Company</th>\n",
              "      <th>Submitted via</th>\n",
              "      <th>Date sent to company</th>\n",
              "      <th>Company response to consumer</th>\n",
              "      <th>Timely response?</th>\n",
              "      <th>Complaint ID</th>\n",
              "    </tr>\n",
              "  </thead>\n",
              "  <tbody>\n",
              "    <tr>\n",
              "      <th>0</th>\n",
              "      <td>0</td>\n",
              "      <td>2019-09-24</td>\n",
              "      <td>Debt collection</td>\n",
              "      <td>Attempts to collect debt not owed</td>\n",
              "      <td>transworld systems inc. \\nis trying to collect...</td>\n",
              "      <td>TRANSWORLD SYSTEMS INC</td>\n",
              "      <td>Web</td>\n",
              "      <td>2019-09-24</td>\n",
              "      <td>Closed with explanation</td>\n",
              "      <td>Yes</td>\n",
              "      <td>3384392</td>\n",
              "    </tr>\n",
              "    <tr>\n",
              "      <th>1</th>\n",
              "      <td>2</td>\n",
              "      <td>2019-11-08</td>\n",
              "      <td>Debt collection</td>\n",
              "      <td>Communication tactics</td>\n",
              "      <td>Over the past 2 weeks, I have been receiving e...</td>\n",
              "      <td>Diversified Consultants, Inc.</td>\n",
              "      <td>Web</td>\n",
              "      <td>2019-11-08</td>\n",
              "      <td>Closed with explanation</td>\n",
              "      <td>Yes</td>\n",
              "      <td>3433198</td>\n",
              "    </tr>\n",
              "    <tr>\n",
              "      <th>2</th>\n",
              "      <td>3</td>\n",
              "      <td>2019-09-15</td>\n",
              "      <td>Debt collection</td>\n",
              "      <td>Attempts to collect debt not owed</td>\n",
              "      <td>Pioneer has committed several federal violatio...</td>\n",
              "      <td>Pioneer Capital Solutions Inc</td>\n",
              "      <td>Web</td>\n",
              "      <td>2019-09-15</td>\n",
              "      <td>Closed with explanation</td>\n",
              "      <td>Yes</td>\n",
              "      <td>3374555</td>\n",
              "    </tr>\n",
              "    <tr>\n",
              "      <th>3</th>\n",
              "      <td>6</td>\n",
              "      <td>2019-07-26</td>\n",
              "      <td>Credit reporting, credit repair services, or o...</td>\n",
              "      <td>Problem with a credit reporting company's inve...</td>\n",
              "      <td>Previously, on XX/XX/XXXX, XX/XX/XXXX, and XX/...</td>\n",
              "      <td>Experian Information Solutions Inc.</td>\n",
              "      <td>Web</td>\n",
              "      <td>2019-07-26</td>\n",
              "      <td>Closed with explanation</td>\n",
              "      <td>Yes</td>\n",
              "      <td>3319331</td>\n",
              "    </tr>\n",
              "    <tr>\n",
              "      <th>4</th>\n",
              "      <td>7</td>\n",
              "      <td>2019-07-08</td>\n",
              "      <td>Credit reporting, credit repair services, or o...</td>\n",
              "      <td>Problem with a credit reporting company's inve...</td>\n",
              "      <td>Hello This complaint is against the three cred...</td>\n",
              "      <td>TRANSUNION INTERMEDIATE HOLDINGS, INC.</td>\n",
              "      <td>Web</td>\n",
              "      <td>2019-07-08</td>\n",
              "      <td>Closed with explanation</td>\n",
              "      <td>Yes</td>\n",
              "      <td>3299394</td>\n",
              "    </tr>\n",
              "    <tr>\n",
              "      <th>...</th>\n",
              "      <td>...</td>\n",
              "      <td>...</td>\n",
              "      <td>...</td>\n",
              "      <td>...</td>\n",
              "      <td>...</td>\n",
              "      <td>...</td>\n",
              "      <td>...</td>\n",
              "      <td>...</td>\n",
              "      <td>...</td>\n",
              "      <td>...</td>\n",
              "      <td>...</td>\n",
              "    </tr>\n",
              "    <tr>\n",
              "      <th>636119</th>\n",
              "      <td>1869763</td>\n",
              "      <td>2016-07-11</td>\n",
              "      <td>Student loan or Consumer loan or Vehicle loan ...</td>\n",
              "      <td>Managing the loan or lease</td>\n",
              "      <td>I was on automatic payment for my car loan. In...</td>\n",
              "      <td>NISSAN MOTOR ACCEPTANCE CORPORATION</td>\n",
              "      <td>Web</td>\n",
              "      <td>2016-07-11</td>\n",
              "      <td>Closed with explanation</td>\n",
              "      <td>Yes</td>\n",
              "      <td>2007463</td>\n",
              "    </tr>\n",
              "    <tr>\n",
              "      <th>636120</th>\n",
              "      <td>1869764</td>\n",
              "      <td>2017-01-24</td>\n",
              "      <td>Debt collection</td>\n",
              "      <td>Communication tactics</td>\n",
              "      <td>I recieved a collections call from an unknown ...</td>\n",
              "      <td>CMRE Financial Services, Inc.</td>\n",
              "      <td>Web</td>\n",
              "      <td>2017-01-24</td>\n",
              "      <td>Closed with explanation</td>\n",
              "      <td>Yes</td>\n",
              "      <td>2308954</td>\n",
              "    </tr>\n",
              "    <tr>\n",
              "      <th>636121</th>\n",
              "      <td>1869765</td>\n",
              "      <td>2015-03-26</td>\n",
              "      <td>Mortgage</td>\n",
              "      <td>Loan servicing, payments, escrow account</td>\n",
              "      <td>On XXXX XXXX, 2015, I contacted XXXX XXXX, who...</td>\n",
              "      <td>Finance of America Mortgage LLC</td>\n",
              "      <td>Web</td>\n",
              "      <td>2015-03-26</td>\n",
              "      <td>Closed with monetary relief</td>\n",
              "      <td>Yes</td>\n",
              "      <td>1303324</td>\n",
              "    </tr>\n",
              "    <tr>\n",
              "      <th>636122</th>\n",
              "      <td>1869766</td>\n",
              "      <td>2015-12-12</td>\n",
              "      <td>Mortgage</td>\n",
              "      <td>Loan servicing, payments, escrow account</td>\n",
              "      <td>I can not get from chase who services my mortg...</td>\n",
              "      <td>JPMORGAN CHASE &amp; CO.</td>\n",
              "      <td>Web</td>\n",
              "      <td>2015-12-12</td>\n",
              "      <td>Closed with explanation</td>\n",
              "      <td>Yes</td>\n",
              "      <td>1694674</td>\n",
              "    </tr>\n",
              "    <tr>\n",
              "      <th>636123</th>\n",
              "      <td>1869767</td>\n",
              "      <td>2016-08-09</td>\n",
              "      <td>Credit card or prepaid card</td>\n",
              "      <td>Transaction issue</td>\n",
              "      <td>I made a payment to CITI XXXX Credit Card on X...</td>\n",
              "      <td>CITIBANK, N.A.</td>\n",
              "      <td>Web</td>\n",
              "      <td>2016-08-09</td>\n",
              "      <td>Closed with non-monetary relief</td>\n",
              "      <td>Yes</td>\n",
              "      <td>2053487</td>\n",
              "    </tr>\n",
              "  </tbody>\n",
              "</table>\n",
              "<p>636124 rows × 11 columns</p>\n",
              "</div>"
            ],
            "text/plain": [
              "          index Date received  ... Timely response? Complaint ID\n",
              "0             0    2019-09-24  ...              Yes      3384392\n",
              "1             2    2019-11-08  ...              Yes      3433198\n",
              "2             3    2019-09-15  ...              Yes      3374555\n",
              "3             6    2019-07-26  ...              Yes      3319331\n",
              "4             7    2019-07-08  ...              Yes      3299394\n",
              "...         ...           ...  ...              ...          ...\n",
              "636119  1869763    2016-07-11  ...              Yes      2007463\n",
              "636120  1869764    2017-01-24  ...              Yes      2308954\n",
              "636121  1869765    2015-03-26  ...              Yes      1303324\n",
              "636122  1869766    2015-12-12  ...              Yes      1694674\n",
              "636123  1869767    2016-08-09  ...              Yes      2053487\n",
              "\n",
              "[636124 rows x 11 columns]"
            ]
          },
          "metadata": {
            "tags": []
          },
          "execution_count": 26
        }
      ]
    },
    {
      "cell_type": "code",
      "metadata": {
        "colab": {
          "base_uri": "https://localhost:8080/"
        },
        "id": "MDakHIUx5OKi",
        "outputId": "d9d48dc0-910e-4b8b-9963-96a42024c4d4"
      },
      "source": [
        "data['Submitted via'].value_counts()"
      ],
      "execution_count": 27,
      "outputs": [
        {
          "output_type": "execute_result",
          "data": {
            "text/plain": [
              "Web    636124\n",
              "Name: Submitted via, dtype: int64"
            ]
          },
          "metadata": {
            "tags": []
          },
          "execution_count": 27
        }
      ]
    },
    {
      "cell_type": "code",
      "metadata": {
        "colab": {
          "base_uri": "https://localhost:8080/"
        },
        "id": "vhZFByKj5osV",
        "outputId": "73afa3a1-60cd-4ca5-efd7-a98a84cabeb6"
      },
      "source": [
        "data['Company response to consumer'].value_counts()"
      ],
      "execution_count": 28,
      "outputs": [
        {
          "output_type": "execute_result",
          "data": {
            "text/plain": [
              "Closed with explanation            524944\n",
              "Closed with non-monetary relief     71986\n",
              "Closed with monetary relief         31860\n",
              "Closed                               3741\n",
              "Untimely response                    3575\n",
              "In progress                            18\n",
              "Name: Company response to consumer, dtype: int64"
            ]
          },
          "metadata": {
            "tags": []
          },
          "execution_count": 28
        }
      ]
    },
    {
      "cell_type": "code",
      "metadata": {
        "colab": {
          "base_uri": "https://localhost:8080/"
        },
        "id": "ZCIfCc1W5zTr",
        "outputId": "e21a1966-aa96-482d-b64e-09c6f145dba8"
      },
      "source": [
        "data['Timely response?'].value_counts()"
      ],
      "execution_count": 29,
      "outputs": [
        {
          "output_type": "execute_result",
          "data": {
            "text/plain": [
              "Yes    620840\n",
              "No      15284\n",
              "Name: Timely response?, dtype: int64"
            ]
          },
          "metadata": {
            "tags": []
          },
          "execution_count": 29
        }
      ]
    },
    {
      "cell_type": "code",
      "metadata": {
        "colab": {
          "base_uri": "https://localhost:8080/"
        },
        "id": "PfEkPKuN6Atr",
        "outputId": "e748cb06-f60f-46fe-e09c-fb3233b1f9e7"
      },
      "source": [
        "data['Product'].value_counts()"
      ],
      "execution_count": 30,
      "outputs": [
        {
          "output_type": "execute_result",
          "data": {
            "text/plain": [
              "Credit reporting, credit repair services, or other personal consumer reports    224651\n",
              "Debt collection                                                                 128025\n",
              "Mortgage                                                                         71758\n",
              "Credit card or prepaid card                                                      66477\n",
              "Student loan or Consumer loan or Vehicle loan or other loans                     58230\n",
              "Credit reporting                                                                 31588\n",
              "Checking or savings account                                                      26888\n",
              "Bank account or service                                                          14885\n",
              "Money transfer, virtual currency, or money service                               13330\n",
              "Other financial service                                                            292\n",
              "Name: Product, dtype: int64"
            ]
          },
          "metadata": {
            "tags": []
          },
          "execution_count": 30
        }
      ]
    },
    {
      "cell_type": "code",
      "metadata": {
        "colab": {
          "base_uri": "https://localhost:8080/"
        },
        "id": "wdLwCYmT6HXl",
        "outputId": "32c9f11f-c3df-4bbf-d09f-b80c2383ec7d"
      },
      "source": [
        "data['Company'].value_counts(sort=True, ascending=False).head(20)"
      ],
      "execution_count": 31,
      "outputs": [
        {
          "output_type": "execute_result",
          "data": {
            "text/plain": [
              "EQUIFAX, INC.                             72855\n",
              "Experian Information Solutions Inc.       69299\n",
              "TRANSUNION INTERMEDIATE HOLDINGS, INC.    65909\n",
              "CITIBANK, N.A.                            20177\n",
              "JPMORGAN CHASE & CO.                      19126\n",
              "WELLS FARGO & COMPANY                     19078\n",
              "BANK OF AMERICA, NATIONAL ASSOCIATION     19012\n",
              "CAPITAL ONE FINANCIAL CORPORATION         17208\n",
              "Navient Solutions, LLC.                   15340\n",
              "SYNCHRONY FINANCIAL                       11098\n",
              "AMERICAN EXPRESS COMPANY                   7201\n",
              "U.S. BANCORP                               6513\n",
              "Ocwen Financial Corporation                6175\n",
              "PORTFOLIO RECOVERY ASSOCIATES INC          6139\n",
              "NATIONSTAR MORTGAGE                        5879\n",
              "AES/PHEAA                                  5819\n",
              "DISCOVER BANK                              5020\n",
              "ENCORE CAPITAL GROUP INC.                  5006\n",
              "Alliance Data Card Services                4968\n",
              "PNC Bank N.A.                              4913\n",
              "Name: Company, dtype: int64"
            ]
          },
          "metadata": {
            "tags": []
          },
          "execution_count": 31
        }
      ]
    },
    {
      "cell_type": "code",
      "metadata": {
        "colab": {
          "base_uri": "https://localhost:8080/",
          "height": 745
        },
        "id": "CYycUvBI7iWP",
        "outputId": "5c366df7-8dff-4a15-b8b9-af0b9695f086"
      },
      "source": [
        "plt.figure(figsize=(16,8))\r\n",
        "plt.xticks(rotation='90')\r\n",
        "plt.title(\"Sorted Frequency of complaints from each company\")\r\n",
        "sns.countplot(data=data, x='Company', order=data['Company'].value_counts(sort=True, ascending=False).head(20).index)\r\n",
        "plt.ylabel(\"Number of occurences\", fontsize=12)"
      ],
      "execution_count": 32,
      "outputs": [
        {
          "output_type": "execute_result",
          "data": {
            "text/plain": [
              "Text(0, 0.5, 'Number of occurences')"
            ]
          },
          "metadata": {
            "tags": []
          },
          "execution_count": 32
        },
        {
          "output_type": "display_data",
          "data": {
            "image/png": "[encoded data removed]",
            "text/plain": [
              "<Figure size 1152x576 with 1 Axes>"
            ]
          },
          "metadata": {
            "tags": [],
            "needs_background": "light"
          }
        }
      ]
    },
    {
      "cell_type": "markdown",
      "metadata": {
        "id": "ehX04fv_GHu-"
      },
      "source": [
        "**Text processing**"
      ]
    },
    {
      "cell_type": "code",
      "metadata": {
        "id": "vVMRdBEUHJNx"
      },
      "source": [
        "pd.set_option('display.max_colwidth', None)"
      ],
      "execution_count": 33,
      "outputs": []
    },
    {
      "cell_type": "code",
      "metadata": {
        "colab": {
          "base_uri": "https://localhost:8080/",
          "height": 69
        },
        "id": "7UeztUEuEZ_R",
        "outputId": "8b817047-f385-4964-88e6-4e5a13c8c1f2"
      },
      "source": [
        "data['Consumer complaint narrative'][2]"
      ],
      "execution_count": 34,
      "outputs": [
        {
          "output_type": "execute_result",
          "data": {
            "application/vnd.google.colaboratory.intrinsic+json": {
              "type": "string"
            },
            "text/plain": [
              "'Over the past 2 weeks, I have been receiving excessive amounts of telephone calls from the company listed in this complaint. The calls occur between XXXX XXXX and XXXX XXXX to my cell and at my job. The company does not have the right to harass me at work and I want this to stop. It is extremely distracting to be told 5 times a day that I have a call from this collection agency while at work.'"
            ]
          },
          "metadata": {
            "tags": []
          },
          "execution_count": 34
        }
      ]
    },
    {
      "cell_type": "code",
      "metadata": {
        "colab": {
          "base_uri": "https://localhost:8080/"
        },
        "id": "kkwT3p0ZGT-r",
        "outputId": "6411605c-c72b-4cd4-b793-14bbc39b630f"
      },
      "source": [
        "import string\r\n",
        "import re\r\n",
        "import nltk\r\n",
        "from nltk.corpus import stopwords\r\n",
        "nltk.download('punkt')\r\n",
        "nltk.download('stopwords')"
      ],
      "execution_count": 35,
      "outputs": [
        {
          "output_type": "stream",
          "text": [
            "[nltk_data] Downloading package punkt to /root/nltk_data...\n",
            "[nltk_data]   Unzipping tokenizers/punkt.zip.\n",
            "[nltk_data] Downloading package stopwords to /root/nltk_data...\n",
            "[nltk_data]   Unzipping corpora/stopwords.zip.\n"
          ],
          "name": "stdout"
        },
        {
          "output_type": "execute_result",
          "data": {
            "text/plain": [
              "True"
            ]
          },
          "metadata": {
            "tags": []
          },
          "execution_count": 35
        }
      ]
    },
    {
      "cell_type": "code",
      "metadata": {
        "id": "_AJnv88gHDQG"
      },
      "source": [
        " def Clean_Text(text):\r\n",
        "   punc = list(string.punctuation)\r\n",
        "   punc.remove('.')\r\n",
        "   stop_words = stopwords.words('english')\r\n",
        "   text = re.sub(r'[\\n|\\r|\\r\\n]+', ' ', text)\r\n",
        "   text = re.sub(r'[XX]+', '', text)\r\n",
        "   text = re.sub(r'[0-9]', '', text)\r\n",
        "   text = re.sub(r'//', '', text)\r\n",
        "   text = re.sub(r'{$.}', '', text)\r\n",
        "\r\n",
        "   text = [word for word in text.split() if word not in stop_words + punc]\r\n",
        "   text = ' '.join(text)\r\n",
        "   return text.lower()\r\n"
      ],
      "execution_count": 36,
      "outputs": []
    },
    {
      "cell_type": "code",
      "metadata": {
        "id": "EtY_gqymJ2Su"
      },
      "source": [
        "data['Consumer complaint narrative'] = data['Consumer complaint narrative'].apply(Clean_Text)"
      ],
      "execution_count": 37,
      "outputs": []
    },
    {
      "cell_type": "code",
      "metadata": {
        "id": "yfT72kALKBq-"
      },
      "source": [
        "data.reset_index(inplace=True)"
      ],
      "execution_count": 38,
      "outputs": []
    },
    {
      "cell_type": "code",
      "metadata": {
        "colab": {
          "base_uri": "https://localhost:8080/",
          "height": 867
        },
        "id": "pjQtTvool8Kf",
        "outputId": "0fe3e5ff-bdc1-4e55-d26c-411bc9a07577"
      },
      "source": [
        "data.tail(5)"
      ],
      "execution_count": 39,
      "outputs": [
        {
          "output_type": "execute_result",
          "data": {
            "text/html": [
              "<div>\n",
              "<style scoped>\n",
              "    .dataframe tbody tr th:only-of-type {\n",
              "        vertical-align: middle;\n",
              "    }\n",
              "\n",
              "    .dataframe tbody tr th {\n",
              "        vertical-align: top;\n",
              "    }\n",
              "\n",
              "    .dataframe thead th {\n",
              "        text-align: right;\n",
              "    }\n",
              "</style>\n",
              "<table border=\"1\" class=\"dataframe\">\n",
              "  <thead>\n",
              "    <tr style=\"text-align: right;\">\n",
              "      <th></th>\n",
              "      <th>index</th>\n",
              "      <th>Date received</th>\n",
              "      <th>Product</th>\n",
              "      <th>Issue</th>\n",
              "      <th>Consumer complaint narrative</th>\n",
              "      <th>Company</th>\n",
              "      <th>Submitted via</th>\n",
              "      <th>Date sent to company</th>\n",
              "      <th>Company response to consumer</th>\n",
              "      <th>Timely response?</th>\n",
              "      <th>Complaint ID</th>\n",
              "    </tr>\n",
              "  </thead>\n",
              "  <tbody>\n",
              "    <tr>\n",
              "      <th>636119</th>\n",
              "      <td>1869763</td>\n",
              "      <td>2016-07-11</td>\n",
              "      <td>Student loan or Consumer loan or Vehicle loan or other loans</td>\n",
              "      <td>Managing the loan or lease</td>\n",
              "      <td>i automatic payment car loan. in fine print supposedly i n't see final payment must made check. i get notice late i stuck negative mark credit report. we never late entire loan. we also moved notice delayed us first baby excuses paid time along small final payment affect credit.</td>\n",
              "      <td>NISSAN MOTOR ACCEPTANCE CORPORATION</td>\n",
              "      <td>Web</td>\n",
              "      <td>2016-07-11</td>\n",
              "      <td>Closed with explanation</td>\n",
              "      <td>Yes</td>\n",
              "      <td>2007463</td>\n",
              "    </tr>\n",
              "    <tr>\n",
              "      <th>636120</th>\n",
              "      <td>1869764</td>\n",
              "      <td>2017-01-24</td>\n",
              "      <td>Debt collection</td>\n",
              "      <td>Communication tactics</td>\n",
              "      <td>i recieved collections call unknown company morning hospital. after hold minutes automated system recording told wait representative, i hung directed website. their website http www.cmrefsi.com/ trusted upon research, seem collection scam. i business i authorized agreed payments company missed payments outstanding accounts.</td>\n",
              "      <td>CMRE Financial Services, Inc.</td>\n",
              "      <td>Web</td>\n",
              "      <td>2017-01-24</td>\n",
              "      <td>Closed with explanation</td>\n",
              "      <td>Yes</td>\n",
              "      <td>2308954</td>\n",
              "    </tr>\n",
              "    <tr>\n",
              "      <th>636121</th>\n",
              "      <td>1869765</td>\n",
              "      <td>2015-03-26</td>\n",
              "      <td>Mortgage</td>\n",
              "      <td>Loan servicing, payments, escrow account</td>\n",
              "      <td>on i contacted branch manager gateway funding, learned i lower mortgage monthly payment approximately {$.} {$.}. i ecstatic i would saved {$.} month. sent via email details of transaction detailing i would pay amount. during escrow process i instructed wire {$.} thought application completed. on contacted stated required pay additional {$.} certain expenses overlooked . i contacted additional expense stated, gateway funding refund {$.} back i send money complete escrow process. i complaining issues i learned mortgage monthly payment {$.} promised instead {$.}, i received refund amount {$.}, promised . when i contacted via telephone monthly payment, stated made mistake. i contacted occasions refund check. i contacted via telephone stated issue check friday application process completed. i contacted stated would authorize refund check. when i last contacted i told i already received it, later verified check issued delivered. it belief taking advantage lack knowledge loan application process informing many years outstanding services promise lower month mortgage payment deceit benefit himself.</td>\n",
              "      <td>Finance of America Mortgage LLC</td>\n",
              "      <td>Web</td>\n",
              "      <td>2015-03-26</td>\n",
              "      <td>Closed with monetary relief</td>\n",
              "      <td>Yes</td>\n",
              "      <td>1303324</td>\n",
              "    </tr>\n",
              "    <tr>\n",
              "      <th>636122</th>\n",
              "      <td>1869766</td>\n",
              "      <td>2015-12-12</td>\n",
              "      <td>Mortgage</td>\n",
              "      <td>Loan servicing, payments, escrow account</td>\n",
              "      <td>i get chase services mortgage, owns original loan docs signatures.</td>\n",
              "      <td>JPMORGAN CHASE &amp; CO.</td>\n",
              "      <td>Web</td>\n",
              "      <td>2015-12-12</td>\n",
              "      <td>Closed with explanation</td>\n",
              "      <td>Yes</td>\n",
              "      <td>1694674</td>\n",
              "    </tr>\n",
              "    <tr>\n",
              "      <th>636123</th>\n",
              "      <td>1869767</td>\n",
              "      <td>2016-08-09</td>\n",
              "      <td>Credit card or prepaid card</td>\n",
              "      <td>Transaction issue</td>\n",
              "      <td>i made payment citi credit card using citi prepaid debit card issued us furnace/air conditioning install. the payment made phone representative citi simplicity i given conformation number complete call. i never say payment post account i called citi back said record payment made . i spoke several departments get answer never took place. i filed dispute citi also called citi rebate card company immediately confirmed payment made received citi credit card date. we email us proof transaction sent citi go forward dispute. i received email showing days later card balance {$.} payment remaining balance card thought dispute resolved. then yesterday i received email stating dispute denied {$.} put back onto balance owed citi . we then called yesterday re-open dispute i re-faxed proof along letter explanation dispute dispute fax number citi also mailed copy presidential office south dakota. then speaking furnace installer citi helping even numerous attempts resolve matter i contacting help case. i sure else payment made, received rebate card citi {$.} balance money received. please help us.</td>\n",
              "      <td>CITIBANK, N.A.</td>\n",
              "      <td>Web</td>\n",
              "      <td>2016-08-09</td>\n",
              "      <td>Closed with non-monetary relief</td>\n",
              "      <td>Yes</td>\n",
              "      <td>2053487</td>\n",
              "    </tr>\n",
              "  </tbody>\n",
              "</table>\n",
              "</div>"
            ],
            "text/plain": [
              "          index Date received  ... Timely response? Complaint ID\n",
              "636119  1869763    2016-07-11  ...              Yes      2007463\n",
              "636120  1869764    2017-01-24  ...              Yes      2308954\n",
              "636121  1869765    2015-03-26  ...              Yes      1303324\n",
              "636122  1869766    2015-12-12  ...              Yes      1694674\n",
              "636123  1869767    2016-08-09  ...              Yes      2053487\n",
              "\n",
              "[5 rows x 11 columns]"
            ]
          },
          "metadata": {
            "tags": []
          },
          "execution_count": 39
        }
      ]
    },
    {
      "cell_type": "markdown",
      "metadata": {
        "id": "YEEotRNBFlcI"
      },
      "source": [
        "Initializing x and y variables "
      ]
    },
    {
      "cell_type": "code",
      "metadata": {
        "id": "id1o5PGm_AXv"
      },
      "source": [
        "x = data['Consumer complaint narrative']\r\n",
        "y = data['Product']"
      ],
      "execution_count": 40,
      "outputs": []
    },
    {
      "cell_type": "code",
      "metadata": {
        "colab": {
          "base_uri": "https://localhost:8080/",
          "height": 238
        },
        "id": "sCcrL3kPV8pl",
        "outputId": "34adfe34-8e7a-4cc3-8bb5-762c13aea700"
      },
      "source": [
        "y = pd.get_dummies(y,drop_first=True)\r\n",
        "y.head(5)"
      ],
      "execution_count": 42,
      "outputs": [
        {
          "output_type": "execute_result",
          "data": {
            "text/html": [
              "<div>\n",
              "<style scoped>\n",
              "    .dataframe tbody tr th:only-of-type {\n",
              "        vertical-align: middle;\n",
              "    }\n",
              "\n",
              "    .dataframe tbody tr th {\n",
              "        vertical-align: top;\n",
              "    }\n",
              "\n",
              "    .dataframe thead th {\n",
              "        text-align: right;\n",
              "    }\n",
              "</style>\n",
              "<table border=\"1\" class=\"dataframe\">\n",
              "  <thead>\n",
              "    <tr style=\"text-align: right;\">\n",
              "      <th></th>\n",
              "      <th>Checking or savings account</th>\n",
              "      <th>Credit card or prepaid card</th>\n",
              "      <th>Credit reporting</th>\n",
              "      <th>Credit reporting, credit repair services, or other personal consumer reports</th>\n",
              "      <th>Debt collection</th>\n",
              "      <th>Money transfer, virtual currency, or money service</th>\n",
              "      <th>Mortgage</th>\n",
              "      <th>Other financial service</th>\n",
              "      <th>Student loan or Consumer loan or Vehicle loan or other loans</th>\n",
              "    </tr>\n",
              "  </thead>\n",
              "  <tbody>\n",
              "    <tr>\n",
              "      <th>0</th>\n",
              "      <td>0</td>\n",
              "      <td>0</td>\n",
              "      <td>0</td>\n",
              "      <td>0</td>\n",
              "      <td>1</td>\n",
              "      <td>0</td>\n",
              "      <td>0</td>\n",
              "      <td>0</td>\n",
              "      <td>0</td>\n",
              "    </tr>\n",
              "    <tr>\n",
              "      <th>1</th>\n",
              "      <td>0</td>\n",
              "      <td>0</td>\n",
              "      <td>0</td>\n",
              "      <td>0</td>\n",
              "      <td>1</td>\n",
              "      <td>0</td>\n",
              "      <td>0</td>\n",
              "      <td>0</td>\n",
              "      <td>0</td>\n",
              "    </tr>\n",
              "    <tr>\n",
              "      <th>2</th>\n",
              "      <td>0</td>\n",
              "      <td>0</td>\n",
              "      <td>0</td>\n",
              "      <td>0</td>\n",
              "      <td>1</td>\n",
              "      <td>0</td>\n",
              "      <td>0</td>\n",
              "      <td>0</td>\n",
              "      <td>0</td>\n",
              "    </tr>\n",
              "    <tr>\n",
              "      <th>3</th>\n",
              "      <td>0</td>\n",
              "      <td>0</td>\n",
              "      <td>0</td>\n",
              "      <td>1</td>\n",
              "      <td>0</td>\n",
              "      <td>0</td>\n",
              "      <td>0</td>\n",
              "      <td>0</td>\n",
              "      <td>0</td>\n",
              "    </tr>\n",
              "    <tr>\n",
              "      <th>4</th>\n",
              "      <td>0</td>\n",
              "      <td>0</td>\n",
              "      <td>0</td>\n",
              "      <td>1</td>\n",
              "      <td>0</td>\n",
              "      <td>0</td>\n",
              "      <td>0</td>\n",
              "      <td>0</td>\n",
              "      <td>0</td>\n",
              "    </tr>\n",
              "  </tbody>\n",
              "</table>\n",
              "</div>"
            ],
            "text/plain": [
              "   Checking or savings account  ...  Student loan or Consumer loan or Vehicle loan or other loans\n",
              "0                            0  ...                                                             0\n",
              "1                            0  ...                                                             0\n",
              "2                            0  ...                                                             0\n",
              "3                            0  ...                                                             0\n",
              "4                            0  ...                                                             0\n",
              "\n",
              "[5 rows x 9 columns]"
            ]
          },
          "metadata": {
            "tags": []
          },
          "execution_count": 42
        }
      ]
    },
    {
      "cell_type": "code",
      "metadata": {
        "id": "SjdYy47-XONL"
      },
      "source": [
        "from sklearn.model_selection import train_test_split\r\n",
        "x_train, x_test, y_train, y_test = train_test_split(x, y, test_size=0.20, random_state=42)"
      ],
      "execution_count": 52,
      "outputs": []
    },
    {
      "cell_type": "markdown",
      "metadata": {
        "id": "RdqzNQpn6jTR"
      },
      "source": [
        "**Convert text into Word Embeddings**"
      ]
    },
    {
      "cell_type": "code",
      "metadata": {
        "colab": {
          "base_uri": "https://localhost:8080/"
        },
        "id": "3jE0L6xjmBB9",
        "outputId": "15cfdcee-b367-4937-f28e-84dd5bc6e32d"
      },
      "source": [
        "# path  = /content/drive/MyDrive/Deep_learning/Datasets/Nlp_vectors_dataset/glove.6B.50d.txt\r\n",
        "\r\n",
        "from keras.preprocessing.text import Tokenizer\r\n",
        "from keras.preprocessing import sequence, text\r\n",
        "\r\n",
        "tokenizer = Tokenizer(num_words=10000)\r\n",
        "tokenizer.fit_on_texts(x_train)\r\n",
        "tokenizer.fit_on_texts(x_test)\r\n",
        "print(\"Found %s unique tokens\" %len(tokenizer.word_index))"
      ],
      "execution_count": 53,
      "outputs": [
        {
          "output_type": "stream",
          "text": [
            "Found 135780 unique tokens\n"
          ],
          "name": "stdout"
        }
      ]
    },
    {
      "cell_type": "code",
      "metadata": {
        "id": "EdeT8ucHAi9w"
      },
      "source": [
        "vocab_size = len(tokenizer.word_index) +1\r\n",
        "maxlen=200"
      ],
      "execution_count": 54,
      "outputs": []
    },
    {
      "cell_type": "code",
      "metadata": {
        "id": "g4lpAhzE_awZ"
      },
      "source": [
        "x_train = tokenizer.texts_to_sequences(x_train)\r\n",
        "x_test = tokenizer.texts_to_sequences(x_test)\r\n",
        "\r\n",
        "x_train = sequence.pad_sequences(x_train, padding='post', maxlen=maxlen )\r\n",
        "x_test = sequence.pad_sequences(x_test, padding='post', maxlen=maxlen )"
      ],
      "execution_count": 55,
      "outputs": []
    },
    {
      "cell_type": "code",
      "metadata": {
        "colab": {
          "base_uri": "https://localhost:8080/"
        },
        "id": "eQcDOZm2Psee",
        "outputId": "acf93323-cb48-4847-c90b-b21928c7b2d6"
      },
      "source": [
        "vocab_size"
      ],
      "execution_count": 56,
      "outputs": [
        {
          "output_type": "execute_result",
          "data": {
            "text/plain": [
              "135781"
            ]
          },
          "metadata": {
            "tags": []
          },
          "execution_count": 56
        }
      ]
    },
    {
      "cell_type": "code",
      "metadata": {
        "colab": {
          "base_uri": "https://localhost:8080/"
        },
        "id": "ANqXqjJXn5Ua",
        "outputId": "ac657ed4-a934-4636-9b29-569fcad33fbb"
      },
      "source": [
        "x_train.shape, y_train.shape , x_test.shape, y_test.shape"
      ],
      "execution_count": 57,
      "outputs": [
        {
          "output_type": "execute_result",
          "data": {
            "text/plain": [
              "((508899, 200), (508899, 9), (127225, 200), (127225, 9))"
            ]
          },
          "metadata": {
            "tags": []
          },
          "execution_count": 57
        }
      ]
    },
    {
      "cell_type": "markdown",
      "metadata": {
        "id": "mmfgihAcC22F"
      },
      "source": [
        "**Using GloVe word embeddings to convert text inputs to their numeric counterparts**"
      ]
    },
    {
      "cell_type": "markdown",
      "metadata": {
        "id": "-AOZVLcpQc1h"
      },
      "source": [
        "Note: When we take glove of 50 dim, then we need to intialize embedding_matrix of dimension 50"
      ]
    },
    {
      "cell_type": "code",
      "metadata": {
        "id": "421oollCAwGf"
      },
      "source": [
        "from numpy import array\r\n",
        "from numpy import asarray\r\n",
        "from numpy import zeros\r\n",
        "\r\n",
        "# Initialize a dictionary\r\n",
        "embeddings_dictionary = dict()\r\n",
        "\r\n",
        "# Load the glove file\r\n",
        "glove_file = open('/content/drive/MyDrive/Deep_learning/Datasets/Nlp_vectors_dataset/glove.6B.50d.txt', encoding='utf8')\r\n",
        "\r\n",
        "for line in glove_file:\r\n",
        "  records = line.split()\r\n",
        "  word = records[0]\r\n",
        "  vector_dimensions = asarray(records[1:], dtype='float32')\r\n",
        "  embeddings_dictionary[word] = vector_dimensions\r\n",
        "glove_file.close()\r\n",
        "\r\n",
        "# Initiliaze Embedding matrix\r\n",
        "embedding_matrix = zeros((vocab_size, 50))\r\n",
        "\r\n",
        "for word,index in tokenizer.word_index.items():\r\n",
        "  embedding_vector = embeddings_dictionary.get(word)\r\n",
        "  if embedding_vector is not None:\r\n",
        "    embedding_matrix[index] = embedding_vector\r\n",
        "\r\n",
        "\r\n"
      ],
      "execution_count": 58,
      "outputs": []
    },
    {
      "cell_type": "markdown",
      "metadata": {
        "id": "dADNdXgPRqhE"
      },
      "source": [
        "# **Create Model**"
      ]
    },
    {
      "cell_type": "code",
      "metadata": {
        "colab": {
          "base_uri": "https://localhost:8080/"
        },
        "id": "ToL7-T0SFROu",
        "outputId": "1bf76431-2d5d-4bda-9ab2-f24187111baf"
      },
      "source": [
        "from tensorflow.keras.models import Sequential\r\n",
        "from tensorflow.keras.layers import Embedding\r\n",
        "from tensorflow.keras.layers import Dropout\r\n",
        "from tensorflow.keras.layers import LSTM\r\n",
        "from tensorflow.keras.layers import Dense\r\n",
        "from tensorflow.keras.layers import Bidirectional\r\n",
        "\r\n",
        "model = Sequential()\r\n",
        "model.add(Embedding(vocab_size, 50, weights=[embedding_matrix],trainable=False))\r\n",
        "model.add(Dropout(.3))\r\n",
        "model.add(Bidirectional(LSTM(100)))\r\n",
        "model.add(Dropout(.3))\r\n",
        "model.add(Dense(9, activation='softmax'))\r\n",
        "model.compile(loss='categorical_crossentropy', optimizer='adam', metrics=['accuracy'])\r\n",
        "model.summary()"
      ],
      "execution_count": 63,
      "outputs": [
        {
          "output_type": "stream",
          "text": [
            "Model: \"sequential_3\"\n",
            "_________________________________________________________________\n",
            "Layer (type)                 Output Shape              Param #   \n",
            "=================================================================\n",
            "embedding_3 (Embedding)      (None, None, 50)          6789050   \n",
            "_________________________________________________________________\n",
            "dropout_6 (Dropout)          (None, None, 50)          0         \n",
            "_________________________________________________________________\n",
            "bidirectional_3 (Bidirection (None, 200)               120800    \n",
            "_________________________________________________________________\n",
            "dropout_7 (Dropout)          (None, 200)               0         \n",
            "_________________________________________________________________\n",
            "dense_3 (Dense)              (None, 9)                 1809      \n",
            "=================================================================\n",
            "Total params: 6,911,659\n",
            "Trainable params: 122,609\n",
            "Non-trainable params: 6,789,050\n",
            "_________________________________________________________________\n"
          ],
          "name": "stdout"
        }
      ]
    },
    {
      "cell_type": "code",
      "metadata": {
        "colab": {
          "base_uri": "https://localhost:8080/"
        },
        "id": "-Vjo0HpYUvL5",
        "outputId": "e2692b8c-422a-4311-879b-44154e5bdb6f"
      },
      "source": [
        "model.fit(x_train,y_train, validation_split=0.1,batch_size=64, epochs=5)"
      ],
      "execution_count": 64,
      "outputs": [
        {
          "output_type": "stream",
          "text": [
            "Epoch 1/5\n",
            "7157/7157 [==============================] - 157s 22ms/step - loss: 0.8952 - accuracy: 0.6856 - val_loss: 0.7309 - val_accuracy: 0.7440\n",
            "Epoch 2/5\n",
            "7157/7157 [==============================] - 154s 22ms/step - loss: 0.8263 - accuracy: 0.7107 - val_loss: 0.7557 - val_accuracy: 0.7387\n",
            "Epoch 3/5\n",
            "7157/7157 [==============================] - 153s 21ms/step - loss: 0.8350 - accuracy: 0.7056 - val_loss: 0.7175 - val_accuracy: 0.7548\n",
            "Epoch 4/5\n",
            "7157/7157 [==============================] - 153s 21ms/step - loss: 0.8473 - accuracy: 0.7006 - val_loss: 0.7502 - val_accuracy: 0.7450\n",
            "Epoch 5/5\n",
            "7157/7157 [==============================] - 154s 21ms/step - loss: 0.8799 - accuracy: 0.6888 - val_loss: 0.8057 - val_accuracy: 0.7232\n"
          ],
          "name": "stdout"
        },
        {
          "output_type": "execute_result",
          "data": {
            "text/plain": [
              "<tensorflow.python.keras.callbacks.History at 0x7fbaf65c3b00>"
            ]
          },
          "metadata": {
            "tags": []
          },
          "execution_count": 64
        }
      ]
    },
    {
      "cell_type": "code",
      "metadata": {
        "colab": {
          "base_uri": "https://localhost:8080/"
        },
        "id": "hc4C4jnErOF4",
        "outputId": "65802e57-b3dd-45cc-e78d-83969e9069b9"
      },
      "source": [
        "model.evaluate(x_test,y_test, batch_size=32, verbose=2)"
      ],
      "execution_count": 65,
      "outputs": [
        {
          "output_type": "stream",
          "text": [
            "3976/3976 - 36s - loss: 0.7994 - accuracy: 0.7253\n"
          ],
          "name": "stdout"
        },
        {
          "output_type": "execute_result",
          "data": {
            "text/plain": [
              "[0.7993594408035278, 0.7252584099769592]"
            ]
          },
          "metadata": {
            "tags": []
          },
          "execution_count": 65
        }
      ]
    },
    {
      "cell_type": "code",
      "metadata": {
        "colab": {
          "base_uri": "https://localhost:8080/"
        },
        "id": "UO2ChofTzCQj",
        "outputId": "4e74ceee-3d43-4124-e016-7a0d981bebbd"
      },
      "source": [
        "from keras.callbacks import EarlyStopping\r\n",
        "\r\n",
        "epochs = 5\r\n",
        "batch_size = 64\r\n",
        "history = model.fit(x_train, y_train, epochs=epochs, validation_split=0.1, callbacks=[EarlyStopping(monitor ='val_loss', patience=3, min_delta=0.0001)])"
      ],
      "execution_count": 67,
      "outputs": [
        {
          "output_type": "stream",
          "text": [
            "Epoch 1/5\n",
            "14313/14313 [==============================] - 272s 19ms/step - loss: 0.9132 - accuracy: 0.6763 - val_loss: 0.8359 - val_accuracy: 0.7197\n",
            "Epoch 2/5\n",
            "14313/14313 [==============================] - 271s 19ms/step - loss: 0.9324 - accuracy: 0.6687 - val_loss: 0.7999 - val_accuracy: 0.6931\n",
            "Epoch 3/5\n",
            "14313/14313 [==============================] - 273s 19ms/step - loss: 0.9500 - accuracy: 0.6610 - val_loss: 0.8401 - val_accuracy: 0.7204\n",
            "Epoch 4/5\n",
            "14313/14313 [==============================] - 273s 19ms/step - loss: 0.9727 - accuracy: 0.6534 - val_loss: 0.8521 - val_accuracy: 0.6783\n",
            "Epoch 5/5\n",
            "14313/14313 [==============================] - 272s 19ms/step - loss: 0.9871 - accuracy: 0.6486 - val_loss: 0.8602 - val_accuracy: 0.6832\n"
          ],
          "name": "stdout"
        }
      ]
    },
    {
      "cell_type": "markdown",
      "metadata": {
        "id": "PgPSpXlaEus3"
      },
      "source": [
        "**Plot graph for loss w.r.t epoch value**"
      ]
    },
    {
      "cell_type": "code",
      "metadata": {
        "colab": {
          "base_uri": "https://localhost:8080/",
          "height": 312
        },
        "id": "WFmG75IK7rSv",
        "outputId": "c80af5e0-737d-4a91-a0de-b337bd00184e"
      },
      "source": [
        "plt.title('Loss')\r\n",
        "plt.plot(history.history['loss'], label='train')\r\n",
        "plt.plot(history.history['val_loss'], label='test')\r\n",
        "plt.xlabel('epoch')\r\n",
        "plt.ylabel('Loss')\r\n",
        "plt.legend()"
      ],
      "execution_count": 72,
      "outputs": [
        {
          "output_type": "execute_result",
          "data": {
            "text/plain": [
              "<matplotlib.legend.Legend at 0x7fbaf08ff6a0>"
            ]
          },
          "metadata": {
            "tags": []
          },
          "execution_count": 72
        },
        {
          "output_type": "display_data",
          "data": {
            "image/png": "[encoded data removed]",
            "text/plain": [
              "<Figure size 432x288 with 1 Axes>"
            ]
          },
          "metadata": {
            "tags": [],
            "needs_background": "light"
          }
        }
      ]
    },
    {
      "cell_type": "markdown",
      "metadata": {
        "id": "eNNNBhkLFIcF"
      },
      "source": [
        "Loss is increasing with increase in epoch"
      ]
    },
    {
      "cell_type": "markdown",
      "metadata": {
        "id": "fxGYsJo2E7wt"
      },
      "source": [
        "**Plot graph for Accuracy w.r.t epoch value**"
      ]
    },
    {
      "cell_type": "code",
      "metadata": {
        "colab": {
          "base_uri": "https://localhost:8080/",
          "height": 295
        },
        "id": "byF2SngoDPnq",
        "outputId": "b1a474dc-8246-4401-9bf3-14d8e985a21f"
      },
      "source": [
        "plt.plot(history.history['accuracy'], label='train')\r\n",
        "plt.plot(history.history['val_accuracy'], label='test')\r\n",
        "plt.title('Accuracy')\r\n",
        "plt.xlabel('epoch')\r\n",
        "plt.ylabel('Accuracy')\r\n",
        "plt.legend()\r\n",
        "plt.show()"
      ],
      "execution_count": 73,
      "outputs": [
        {
          "output_type": "display_data",
          "data": {
            "image/png": "[encoded data removed]",
            "text/plain": [
              "<Figure size 432x288 with 1 Axes>"
            ]
          },
          "metadata": {
            "tags": [],
            "needs_background": "light"
          }
        }
      ]
    },
    {
      "cell_type": "markdown",
      "metadata": {
        "id": "u05OfALqFB1s"
      },
      "source": [
        "Accuracy is decreasing with increase in epoch"
      ]
    },
    {
      "cell_type": "code",
      "metadata": {
        "id": "ZVIOAQd8EGpF"
      },
      "source": [
        ""
      ],
      "execution_count": null,
      "outputs": []
    }
  ]
}