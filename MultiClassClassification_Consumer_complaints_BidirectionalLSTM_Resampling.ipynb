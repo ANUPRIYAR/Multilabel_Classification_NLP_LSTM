{
  "nbformat": 4,
  "nbformat_minor": 0,
  "metadata": {
    "colab": {
      "name": "MultiClassClassification_Consumer_complaints_BidirectionalLSTM_Resampling.ipynb",
      "provenance": [],
      "toc_visible": true,
      "mount_file_id": "1yGgtJ9yon_qkN2FrWF2qV-fdS7HkYYTG",
      "authorship_tag": "ABX9TyOm3VYAHLvvXOzrDf5uWgbs",
      "include_colab_link": true
    },
    "kernelspec": {
      "name": "python3",
      "display_name": "Python 3"
    },
    "accelerator": "GPU"
  },
  "cells": [
    {
      "cell_type": "markdown",
      "metadata": {
        "id": "view-in-github",
        "colab_type": "text"
      },
      "source": [
        "<a href=\"https://colab.research.google.com/github/ANUPRIYAR/Multilabel_Classification_NLP_LSTM/blob/main/MultiClassClassification_Consumer_complaints_BidirectionalLSTM_Resampling.ipynb\" target=\"_parent\"><img src=\"https://colab.research.google.com/assets/colab-badge.svg\" alt=\"Open In Colab\"/></a>"
      ]
    },
    {
      "cell_type": "markdown",
      "metadata": {
        "id": "nXXmLj7TvsNH"
      },
      "source": [
        "Dataset Source: https://catalog.data.gov/dataset/consumer-complaint-database\r\n",
        "\r\n",
        "We will only be using 'Consumer complaint narrative' and 'Product' field for Multi Label Classification model. Other feilds are just used for EDA."
      ]
    },
    {
      "cell_type": "code",
      "metadata": {
        "id": "Cw1-un5tW7oz"
      },
      "source": [
        "from google.colab import drive"
      ],
      "execution_count": 4,
      "outputs": []
    },
    {
      "cell_type": "code",
      "metadata": {
        "id": "IrADDZq_bdLh"
      },
      "source": [
        "# !unzip /content/drive/MyDrive/Deep_learning/complaints.csv.zip"
      ],
      "execution_count": 5,
      "outputs": []
    },
    {
      "cell_type": "code",
      "metadata": {
        "id": "9n_eQ94WbocG"
      },
      "source": [
        "import pandas as pd\r\n",
        "import matplotlib.pyplot as plt\r\n",
        "import seaborn as sns\r\n",
        "import warnings\r\n",
        "import numpy as np\r\n",
        "\r\n",
        "warnings.filterwarnings('ignore')"
      ],
      "execution_count": 58,
      "outputs": []
    },
    {
      "cell_type": "code",
      "metadata": {
        "colab": {
          "base_uri": "https://localhost:8080/",
          "height": 612
        },
        "id": "8KGyFNqBceYl",
        "outputId": "1bd8538b-08fa-45e5-df10-7168ab964a60"
      },
      "source": [
        "data = pd.read_csv('/content/drive/MyDrive/Deep_learning/complaints.csv.zip')\r\n",
        "data.head()"
      ],
      "execution_count": 7,
      "outputs": [
        {
          "output_type": "execute_result",
          "data": {
            "text/html": [
              "<div>\n",
              "<style scoped>\n",
              "    .dataframe tbody tr th:only-of-type {\n",
              "        vertical-align: middle;\n",
              "    }\n",
              "\n",
              "    .dataframe tbody tr th {\n",
              "        vertical-align: top;\n",
              "    }\n",
              "\n",
              "    .dataframe thead th {\n",
              "        text-align: right;\n",
              "    }\n",
              "</style>\n",
              "<table border=\"1\" class=\"dataframe\">\n",
              "  <thead>\n",
              "    <tr style=\"text-align: right;\">\n",
              "      <th></th>\n",
              "      <th>Date received</th>\n",
              "      <th>Product</th>\n",
              "      <th>Sub-product</th>\n",
              "      <th>Issue</th>\n",
              "      <th>Sub-issue</th>\n",
              "      <th>Consumer complaint narrative</th>\n",
              "      <th>Company public response</th>\n",
              "      <th>Company</th>\n",
              "      <th>State</th>\n",
              "      <th>ZIP code</th>\n",
              "      <th>Tags</th>\n",
              "      <th>Consumer consent provided?</th>\n",
              "      <th>Submitted via</th>\n",
              "      <th>Date sent to company</th>\n",
              "      <th>Company response to consumer</th>\n",
              "      <th>Timely response?</th>\n",
              "      <th>Consumer disputed?</th>\n",
              "      <th>Complaint ID</th>\n",
              "    </tr>\n",
              "  </thead>\n",
              "  <tbody>\n",
              "    <tr>\n",
              "      <th>0</th>\n",
              "      <td>2019-09-24</td>\n",
              "      <td>Debt collection</td>\n",
              "      <td>I do not know</td>\n",
              "      <td>Attempts to collect debt not owed</td>\n",
              "      <td>Debt is not yours</td>\n",
              "      <td>transworld systems inc. \\nis trying to collect...</td>\n",
              "      <td>NaN</td>\n",
              "      <td>TRANSWORLD SYSTEMS INC</td>\n",
              "      <td>FL</td>\n",
              "      <td>335XX</td>\n",
              "      <td>NaN</td>\n",
              "      <td>Consent provided</td>\n",
              "      <td>Web</td>\n",
              "      <td>2019-09-24</td>\n",
              "      <td>Closed with explanation</td>\n",
              "      <td>Yes</td>\n",
              "      <td>NaN</td>\n",
              "      <td>3384392</td>\n",
              "    </tr>\n",
              "    <tr>\n",
              "      <th>1</th>\n",
              "      <td>2019-09-19</td>\n",
              "      <td>Credit reporting, credit repair services, or o...</td>\n",
              "      <td>Credit reporting</td>\n",
              "      <td>Incorrect information on your report</td>\n",
              "      <td>Information belongs to someone else</td>\n",
              "      <td>NaN</td>\n",
              "      <td>Company has responded to the consumer and the ...</td>\n",
              "      <td>Experian Information Solutions Inc.</td>\n",
              "      <td>PA</td>\n",
              "      <td>15206</td>\n",
              "      <td>NaN</td>\n",
              "      <td>Consent not provided</td>\n",
              "      <td>Web</td>\n",
              "      <td>2019-09-20</td>\n",
              "      <td>Closed with non-monetary relief</td>\n",
              "      <td>Yes</td>\n",
              "      <td>NaN</td>\n",
              "      <td>3379500</td>\n",
              "    </tr>\n",
              "    <tr>\n",
              "      <th>2</th>\n",
              "      <td>2019-11-08</td>\n",
              "      <td>Debt collection</td>\n",
              "      <td>I do not know</td>\n",
              "      <td>Communication tactics</td>\n",
              "      <td>Frequent or repeated calls</td>\n",
              "      <td>Over the past 2 weeks, I have been receiving e...</td>\n",
              "      <td>NaN</td>\n",
              "      <td>Diversified Consultants, Inc.</td>\n",
              "      <td>NC</td>\n",
              "      <td>275XX</td>\n",
              "      <td>NaN</td>\n",
              "      <td>Consent provided</td>\n",
              "      <td>Web</td>\n",
              "      <td>2019-11-08</td>\n",
              "      <td>Closed with explanation</td>\n",
              "      <td>Yes</td>\n",
              "      <td>NaN</td>\n",
              "      <td>3433198</td>\n",
              "    </tr>\n",
              "    <tr>\n",
              "      <th>3</th>\n",
              "      <td>2019-09-15</td>\n",
              "      <td>Debt collection</td>\n",
              "      <td>Other debt</td>\n",
              "      <td>Attempts to collect debt not owed</td>\n",
              "      <td>Debt was result of identity theft</td>\n",
              "      <td>Pioneer has committed several federal violatio...</td>\n",
              "      <td>NaN</td>\n",
              "      <td>Pioneer Capital Solutions Inc</td>\n",
              "      <td>CA</td>\n",
              "      <td>925XX</td>\n",
              "      <td>NaN</td>\n",
              "      <td>Consent provided</td>\n",
              "      <td>Web</td>\n",
              "      <td>2019-09-15</td>\n",
              "      <td>Closed with explanation</td>\n",
              "      <td>Yes</td>\n",
              "      <td>NaN</td>\n",
              "      <td>3374555</td>\n",
              "    </tr>\n",
              "    <tr>\n",
              "      <th>4</th>\n",
              "      <td>2020-11-30</td>\n",
              "      <td>Credit reporting, credit repair services, or o...</td>\n",
              "      <td>Credit reporting</td>\n",
              "      <td>Incorrect information on your report</td>\n",
              "      <td>Account status incorrect</td>\n",
              "      <td>NaN</td>\n",
              "      <td>Company has responded to the consumer and the ...</td>\n",
              "      <td>Experian Information Solutions Inc.</td>\n",
              "      <td>MA</td>\n",
              "      <td>01605</td>\n",
              "      <td>NaN</td>\n",
              "      <td>NaN</td>\n",
              "      <td>Phone</td>\n",
              "      <td>2020-11-30</td>\n",
              "      <td>Closed with explanation</td>\n",
              "      <td>Yes</td>\n",
              "      <td>NaN</td>\n",
              "      <td>3981945</td>\n",
              "    </tr>\n",
              "  </tbody>\n",
              "</table>\n",
              "</div>"
            ],
            "text/plain": [
              "  Date received  ... Complaint ID\n",
              "0    2019-09-24  ...      3384392\n",
              "1    2019-09-19  ...      3379500\n",
              "2    2019-11-08  ...      3433198\n",
              "3    2019-09-15  ...      3374555\n",
              "4    2020-11-30  ...      3981945\n",
              "\n",
              "[5 rows x 18 columns]"
            ]
          },
          "metadata": {
            "tags": []
          },
          "execution_count": 7
        }
      ]
    },
    {
      "cell_type": "code",
      "metadata": {
        "colab": {
          "base_uri": "https://localhost:8080/"
        },
        "id": "kyV0uFwjg93o",
        "outputId": "13c4ea32-19ca-4c86-b49e-76220ee7df6f"
      },
      "source": [
        "data.shape"
      ],
      "execution_count": 8,
      "outputs": [
        {
          "output_type": "execute_result",
          "data": {
            "text/plain": [
              "(1869768, 18)"
            ]
          },
          "metadata": {
            "tags": []
          },
          "execution_count": 8
        }
      ]
    },
    {
      "cell_type": "code",
      "metadata": {
        "colab": {
          "base_uri": "https://localhost:8080/",
          "height": 865
        },
        "id": "C1-9bQr4ck55",
        "outputId": "cf3fd6e2-adfd-4b6f-903b-a3cf08a80811"
      },
      "source": [
        "plt.figure(figsize=(16,8))\r\n",
        "data['Product'].value_counts().plot(kind='bar')"
      ],
      "execution_count": 9,
      "outputs": [
        {
          "output_type": "execute_result",
          "data": {
            "text/plain": [
              "<matplotlib.axes._subplots.AxesSubplot at 0x7fe2b3ac7e48>"
            ]
          },
          "metadata": {
            "tags": []
          },
          "execution_count": 9
        },
        {
          "output_type": "display_data",
          "data": {
            "image/png": "[encoded data removed]",
            "text/plain": [
              "<Figure size 1152x576 with 1 Axes>"
            ]
          },
          "metadata": {
            "tags": [],
            "needs_background": "light"
          }
        }
      ]
    },
    {
      "cell_type": "code",
      "metadata": {
        "colab": {
          "base_uri": "https://localhost:8080/"
        },
        "id": "aDuEPWXdeW4B",
        "outputId": "8a414460-bbb6-4c17-d3e8-200b05666775"
      },
      "source": [
        "data['Product'].nunique()"
      ],
      "execution_count": 10,
      "outputs": [
        {
          "output_type": "execute_result",
          "data": {
            "text/plain": [
              "18"
            ]
          },
          "metadata": {
            "tags": []
          },
          "execution_count": 10
        }
      ]
    },
    {
      "cell_type": "markdown",
      "metadata": {
        "id": "YkHoPvjIed8W"
      },
      "source": [
        "If we consider Product field as categorical variable, then there are 18 categories."
      ]
    },
    {
      "cell_type": "code",
      "metadata": {
        "colab": {
          "base_uri": "https://localhost:8080/"
        },
        "id": "ILBmkUPcdDLw",
        "outputId": "33f76d43-9ac2-4419-e855-4d6a23eaee41"
      },
      "source": [
        "data['Sub-product'].value_counts()"
      ],
      "execution_count": 11,
      "outputs": [
        {
          "output_type": "execute_result",
          "data": {
            "text/plain": [
              "Credit reporting                              566753\n",
              "Checking account                              118233\n",
              "Other mortgage                                 86635\n",
              "General-purpose credit card or charge card     72389\n",
              "Conventional fixed mortgage                    70613\n",
              "                                               ...  \n",
              "Credit repair                                    103\n",
              "Traveler’s/Cashier’s checks                       88\n",
              "Transit card                                      37\n",
              "Electronic Benefit Transfer / EBT card            12\n",
              "Student prepaid card                              12\n",
              "Name: Sub-product, Length: 76, dtype: int64"
            ]
          },
          "metadata": {
            "tags": []
          },
          "execution_count": 11
        }
      ]
    },
    {
      "cell_type": "code",
      "metadata": {
        "colab": {
          "base_uri": "https://localhost:8080/"
        },
        "id": "hK52-U0Kd2Tb",
        "outputId": "f4ce73d4-daf2-4c77-a988-95ee5245df1d"
      },
      "source": [
        "data['Sub-product'].nunique()"
      ],
      "execution_count": 12,
      "outputs": [
        {
          "output_type": "execute_result",
          "data": {
            "text/plain": [
              "76"
            ]
          },
          "metadata": {
            "tags": []
          },
          "execution_count": 12
        }
      ]
    },
    {
      "cell_type": "markdown",
      "metadata": {
        "id": "8BBgyNqLeC3g"
      },
      "source": [
        "There are 76 unique values for Sub-product , hence better to not consider as categorical variable"
      ]
    },
    {
      "cell_type": "markdown",
      "metadata": {
        "id": "O5ihMgp7tDmR"
      },
      "source": [
        "# **Reducing the number of categorical Varibales in Product field**"
      ]
    },
    {
      "cell_type": "code",
      "metadata": {
        "id": "Lq7g3IdVeA57"
      },
      "source": [
        "# Reducing the number of Categorical variables\r\n",
        "\r\n",
        "# Merging categories- 'Credit card' and 'Prepaid Card' into 'Credit Card or prepaid Card'\r\n",
        "data.loc[data['Product'] == 'Credit card', 'Product'] = 'Credit card or prepaid card'\r\n",
        "data.loc[data['Product'] == 'Prepaid card', 'Product'] = 'Credit card or prepaid card'\r\n"
      ],
      "execution_count": 13,
      "outputs": []
    },
    {
      "cell_type": "code",
      "metadata": {
        "colab": {
          "base_uri": "https://localhost:8080/"
        },
        "id": "eGvZaGezfh80",
        "outputId": "9c48bf9f-94c4-4cde-aaa2-1449d8d99bce"
      },
      "source": [
        "data.loc[data['Product'] == 'Credit card', 'Product'].count(), data.loc[data['Product'] == 'Prepaid card', 'Product'].count()"
      ],
      "execution_count": 14,
      "outputs": [
        {
          "output_type": "execute_result",
          "data": {
            "text/plain": [
              "(0, 0)"
            ]
          },
          "metadata": {
            "tags": []
          },
          "execution_count": 14
        }
      ]
    },
    {
      "cell_type": "code",
      "metadata": {
        "id": "eZ1Qk85_koh0"
      },
      "source": [
        "# Merging 'Virtual currency' and 'Money transfers' into 'Money transfer, virtual currency, or money service'\r\n",
        "data.loc[data['Product'] == 'Virtual currency', 'Product'] = 'Money transfer, virtual currency, or money service'\r\n",
        "data.loc[data['Product'] == 'Money transfers', 'Product'] = 'Money transfer, virtual currency, or money service'\r\n",
        "\r\n",
        "data.loc[data['Product'] == 'Payday loan', 'Product'] = 'Payday loan, title loan, or personal loan'"
      ],
      "execution_count": 15,
      "outputs": []
    },
    {
      "cell_type": "code",
      "metadata": {
        "id": "D17orlHhrC2m"
      },
      "source": [
        "data.loc[data['Product'] == 'Student loan', 'Product'] = 'Student loan or Consumer loan or Vehicle loan'\r\n",
        "data.loc[data['Product'] == 'Consumer Loan', 'Product'] = 'Student loan or Consumer loan or Vehicle loan'\r\n",
        "data.loc[data['Product'] == 'Vehicle loan or lease', 'Product'] = 'Student loan or Consumer loan or Vehicle loan'"
      ],
      "execution_count": 16,
      "outputs": []
    },
    {
      "cell_type": "code",
      "metadata": {
        "id": "3hN7ye-vrsEN"
      },
      "source": [
        "data.loc[data['Product'] == 'Payday loan, title loan, or personal loan', 'Product'] = 'Student loan or Consumer loan or Vehicle loan or other loans'\r\n",
        "data.loc[data['Product'] == 'Student loan or Consumer loan or Vehicle loan', 'Product'] = 'Student loan or Consumer loan or Vehicle loan or other loans'"
      ],
      "execution_count": 17,
      "outputs": []
    },
    {
      "cell_type": "code",
      "metadata": {
        "colab": {
          "base_uri": "https://localhost:8080/"
        },
        "id": "4MQhDJRZsDLL",
        "outputId": "698e01be-21be-48f0-b2a4-67a7e82176f0"
      },
      "source": [
        "data['Product'].nunique()"
      ],
      "execution_count": 18,
      "outputs": [
        {
          "output_type": "execute_result",
          "data": {
            "text/plain": [
              "10"
            ]
          },
          "metadata": {
            "tags": []
          },
          "execution_count": 18
        }
      ]
    },
    {
      "cell_type": "code",
      "metadata": {
        "colab": {
          "base_uri": "https://localhost:8080/",
          "height": 865
        },
        "id": "rQI5kQ3CssbJ",
        "outputId": "3470754d-e404-4dc9-8e77-d1af5c9cc749"
      },
      "source": [
        "plt.figure(figsize=(16,8))\r\n",
        "data['Product'].value_counts().plot(kind='bar')"
      ],
      "execution_count": 19,
      "outputs": [
        {
          "output_type": "execute_result",
          "data": {
            "text/plain": [
              "<matplotlib.axes._subplots.AxesSubplot at 0x7fe2a68c45c0>"
            ]
          },
          "metadata": {
            "tags": []
          },
          "execution_count": 19
        },
        {
          "output_type": "display_data",
          "data": {
            "image/png": "[encoded data removed]",
            "text/plain": [
              "<Figure size 1152x576 with 1 Axes>"
            ]
          },
          "metadata": {
            "tags": [],
            "needs_background": "light"
          }
        }
      ]
    },
    {
      "cell_type": "markdown",
      "metadata": {
        "id": "WFYRpfMp40Ol"
      },
      "source": [
        "# **Handling Missing Values**"
      ]
    },
    {
      "cell_type": "code",
      "metadata": {
        "colab": {
          "base_uri": "https://localhost:8080/"
        },
        "id": "B4XtFghps2Ff",
        "outputId": "98183508-5c18-43cf-8a38-adaec3ceb717"
      },
      "source": [
        "data['Company public response'].isnull().sum() , data['Consumer disputed?'].isnull().sum() , data['Tags'].isnull().sum() , data['Company public response'].isnull().sum() "
      ],
      "execution_count": 20,
      "outputs": [
        {
          "output_type": "execute_result",
          "data": {
            "text/plain": [
              "(1096549, 1101294, 1626269, 1096549)"
            ]
          },
          "metadata": {
            "tags": []
          },
          "execution_count": 20
        }
      ]
    },
    {
      "cell_type": "markdown",
      "metadata": {
        "id": "wVQC5b-Ht6v-"
      },
      "source": [
        "There are a huge set of rows with Null values , hence we can delete the column"
      ]
    },
    {
      "cell_type": "code",
      "metadata": {
        "id": "PQzB_I7jtz05"
      },
      "source": [
        "data.drop(['Company public response', 'Consumer disputed?', 'Tags', 'Company public response'], axis=1, inplace=True)"
      ],
      "execution_count": 21,
      "outputs": []
    },
    {
      "cell_type": "code",
      "metadata": {
        "colab": {
          "base_uri": "https://localhost:8080/",
          "height": 213
        },
        "id": "l3QBdf8pvX-U",
        "outputId": "a2cffa7b-6a27-409d-cadc-7559838f3c4e"
      },
      "source": [
        "data.head(2)"
      ],
      "execution_count": 22,
      "outputs": [
        {
          "output_type": "execute_result",
          "data": {
            "text/html": [
              "<div>\n",
              "<style scoped>\n",
              "    .dataframe tbody tr th:only-of-type {\n",
              "        vertical-align: middle;\n",
              "    }\n",
              "\n",
              "    .dataframe tbody tr th {\n",
              "        vertical-align: top;\n",
              "    }\n",
              "\n",
              "    .dataframe thead th {\n",
              "        text-align: right;\n",
              "    }\n",
              "</style>\n",
              "<table border=\"1\" class=\"dataframe\">\n",
              "  <thead>\n",
              "    <tr style=\"text-align: right;\">\n",
              "      <th></th>\n",
              "      <th>Date received</th>\n",
              "      <th>Product</th>\n",
              "      <th>Sub-product</th>\n",
              "      <th>Issue</th>\n",
              "      <th>Sub-issue</th>\n",
              "      <th>Consumer complaint narrative</th>\n",
              "      <th>Company</th>\n",
              "      <th>State</th>\n",
              "      <th>ZIP code</th>\n",
              "      <th>Consumer consent provided?</th>\n",
              "      <th>Submitted via</th>\n",
              "      <th>Date sent to company</th>\n",
              "      <th>Company response to consumer</th>\n",
              "      <th>Timely response?</th>\n",
              "      <th>Complaint ID</th>\n",
              "    </tr>\n",
              "  </thead>\n",
              "  <tbody>\n",
              "    <tr>\n",
              "      <th>0</th>\n",
              "      <td>2019-09-24</td>\n",
              "      <td>Debt collection</td>\n",
              "      <td>I do not know</td>\n",
              "      <td>Attempts to collect debt not owed</td>\n",
              "      <td>Debt is not yours</td>\n",
              "      <td>transworld systems inc. \\nis trying to collect...</td>\n",
              "      <td>TRANSWORLD SYSTEMS INC</td>\n",
              "      <td>FL</td>\n",
              "      <td>335XX</td>\n",
              "      <td>Consent provided</td>\n",
              "      <td>Web</td>\n",
              "      <td>2019-09-24</td>\n",
              "      <td>Closed with explanation</td>\n",
              "      <td>Yes</td>\n",
              "      <td>3384392</td>\n",
              "    </tr>\n",
              "    <tr>\n",
              "      <th>1</th>\n",
              "      <td>2019-09-19</td>\n",
              "      <td>Credit reporting, credit repair services, or o...</td>\n",
              "      <td>Credit reporting</td>\n",
              "      <td>Incorrect information on your report</td>\n",
              "      <td>Information belongs to someone else</td>\n",
              "      <td>NaN</td>\n",
              "      <td>Experian Information Solutions Inc.</td>\n",
              "      <td>PA</td>\n",
              "      <td>15206</td>\n",
              "      <td>Consent not provided</td>\n",
              "      <td>Web</td>\n",
              "      <td>2019-09-20</td>\n",
              "      <td>Closed with non-monetary relief</td>\n",
              "      <td>Yes</td>\n",
              "      <td>3379500</td>\n",
              "    </tr>\n",
              "  </tbody>\n",
              "</table>\n",
              "</div>"
            ],
            "text/plain": [
              "  Date received  ... Complaint ID\n",
              "0    2019-09-24  ...      3384392\n",
              "1    2019-09-19  ...      3379500\n",
              "\n",
              "[2 rows x 15 columns]"
            ]
          },
          "metadata": {
            "tags": []
          },
          "execution_count": 22
        }
      ]
    },
    {
      "cell_type": "markdown",
      "metadata": {
        "id": "Iki9wGOA47SK"
      },
      "source": [
        "**Summary of all the columns with missing values**"
      ]
    },
    {
      "cell_type": "code",
      "metadata": {
        "colab": {
          "base_uri": "https://localhost:8080/"
        },
        "id": "-22lP8Fv1tfx",
        "outputId": "8d63d4b5-be4f-4cfc-d4ce-a35df693e121"
      },
      "source": [
        "#  Get the summary number missing fields in each column\r\n",
        "data.isnull().sum()"
      ],
      "execution_count": 23,
      "outputs": [
        {
          "output_type": "execute_result",
          "data": {
            "text/plain": [
              "Date received                         0\n",
              "Product                               0\n",
              "Sub-product                      235165\n",
              "Issue                                 0\n",
              "Sub-issue                        592093\n",
              "Consumer complaint narrative    1233643\n",
              "Company                               0\n",
              "State                             34968\n",
              "ZIP code                         182847\n",
              "Consumer consent provided?       666447\n",
              "Submitted via                         0\n",
              "Date sent to company                  0\n",
              "Company response to consumer          2\n",
              "Timely response?                      0\n",
              "Complaint ID                          0\n",
              "dtype: int64"
            ]
          },
          "metadata": {
            "tags": []
          },
          "execution_count": 23
        }
      ]
    },
    {
      "cell_type": "code",
      "metadata": {
        "id": "4ZwbqhPN2ZJE"
      },
      "source": [
        "data.drop(['Sub-product', 'Sub-issue' ,'ZIP code', 'Consumer consent provided?', 'State' ], axis=1, inplace=True)"
      ],
      "execution_count": 24,
      "outputs": []
    },
    {
      "cell_type": "code",
      "metadata": {
        "colab": {
          "base_uri": "https://localhost:8080/"
        },
        "id": "DgCB2TFw3pPx",
        "outputId": "d018b67d-159a-4753-856b-30c23bdc7fc5"
      },
      "source": [
        "data.isnull().sum()"
      ],
      "execution_count": 25,
      "outputs": [
        {
          "output_type": "execute_result",
          "data": {
            "text/plain": [
              "Date received                         0\n",
              "Product                               0\n",
              "Issue                                 0\n",
              "Consumer complaint narrative    1233643\n",
              "Company                               0\n",
              "Submitted via                         0\n",
              "Date sent to company                  0\n",
              "Company response to consumer          2\n",
              "Timely response?                      0\n",
              "Complaint ID                          0\n",
              "dtype: int64"
            ]
          },
          "metadata": {
            "tags": []
          },
          "execution_count": 25
        }
      ]
    },
    {
      "cell_type": "markdown",
      "metadata": {
        "id": "OHjgL6224HBb"
      },
      "source": [
        "We can see 'Consumer complaint narrative' is having around 12 lakhs missing fields, Since we will be parsing the narrative to find the label of the complaint, missing rows would not make any sense."
      ]
    },
    {
      "cell_type": "code",
      "metadata": {
        "id": "mphJXH9R31Xt"
      },
      "source": [
        "# Hence we are dropping all the rows with missing fields\r\n",
        "data.dropna(inplace=True)"
      ],
      "execution_count": 26,
      "outputs": []
    },
    {
      "cell_type": "code",
      "metadata": {
        "colab": {
          "base_uri": "https://localhost:8080/"
        },
        "id": "EIWE3Wi937eZ",
        "outputId": "394883b8-57d8-437c-c9dd-8fddc622e351"
      },
      "source": [
        "data.shape"
      ],
      "execution_count": 27,
      "outputs": [
        {
          "output_type": "execute_result",
          "data": {
            "text/plain": [
              "(636124, 10)"
            ]
          },
          "metadata": {
            "tags": []
          },
          "execution_count": 27
        }
      ]
    },
    {
      "cell_type": "code",
      "metadata": {
        "colab": {
          "base_uri": "https://localhost:8080/",
          "height": 657
        },
        "id": "BtJJSncJ4qgQ",
        "outputId": "a4528498-e49a-4612-f81c-e88e79b4483c"
      },
      "source": [
        "data.reset_index()"
      ],
      "execution_count": 28,
      "outputs": [
        {
          "output_type": "execute_result",
          "data": {
            "text/html": [
              "<div>\n",
              "<style scoped>\n",
              "    .dataframe tbody tr th:only-of-type {\n",
              "        vertical-align: middle;\n",
              "    }\n",
              "\n",
              "    .dataframe tbody tr th {\n",
              "        vertical-align: top;\n",
              "    }\n",
              "\n",
              "    .dataframe thead th {\n",
              "        text-align: right;\n",
              "    }\n",
              "</style>\n",
              "<table border=\"1\" class=\"dataframe\">\n",
              "  <thead>\n",
              "    <tr style=\"text-align: right;\">\n",
              "      <th></th>\n",
              "      <th>index</th>\n",
              "      <th>Date received</th>\n",
              "      <th>Product</th>\n",
              "      <th>Issue</th>\n",
              "      <th>Consumer complaint narrative</th>\n",
              "      <th>Company</th>\n",
              "      <th>Submitted via</th>\n",
              "      <th>Date sent to company</th>\n",
              "      <th>Company response to consumer</th>\n",
              "      <th>Timely response?</th>\n",
              "      <th>Complaint ID</th>\n",
              "    </tr>\n",
              "  </thead>\n",
              "  <tbody>\n",
              "    <tr>\n",
              "      <th>0</th>\n",
              "      <td>0</td>\n",
              "      <td>2019-09-24</td>\n",
              "      <td>Debt collection</td>\n",
              "      <td>Attempts to collect debt not owed</td>\n",
              "      <td>transworld systems inc. \\nis trying to collect...</td>\n",
              "      <td>TRANSWORLD SYSTEMS INC</td>\n",
              "      <td>Web</td>\n",
              "      <td>2019-09-24</td>\n",
              "      <td>Closed with explanation</td>\n",
              "      <td>Yes</td>\n",
              "      <td>3384392</td>\n",
              "    </tr>\n",
              "    <tr>\n",
              "      <th>1</th>\n",
              "      <td>2</td>\n",
              "      <td>2019-11-08</td>\n",
              "      <td>Debt collection</td>\n",
              "      <td>Communication tactics</td>\n",
              "      <td>Over the past 2 weeks, I have been receiving e...</td>\n",
              "      <td>Diversified Consultants, Inc.</td>\n",
              "      <td>Web</td>\n",
              "      <td>2019-11-08</td>\n",
              "      <td>Closed with explanation</td>\n",
              "      <td>Yes</td>\n",
              "      <td>3433198</td>\n",
              "    </tr>\n",
              "    <tr>\n",
              "      <th>2</th>\n",
              "      <td>3</td>\n",
              "      <td>2019-09-15</td>\n",
              "      <td>Debt collection</td>\n",
              "      <td>Attempts to collect debt not owed</td>\n",
              "      <td>Pioneer has committed several federal violatio...</td>\n",
              "      <td>Pioneer Capital Solutions Inc</td>\n",
              "      <td>Web</td>\n",
              "      <td>2019-09-15</td>\n",
              "      <td>Closed with explanation</td>\n",
              "      <td>Yes</td>\n",
              "      <td>3374555</td>\n",
              "    </tr>\n",
              "    <tr>\n",
              "      <th>3</th>\n",
              "      <td>6</td>\n",
              "      <td>2019-07-26</td>\n",
              "      <td>Credit reporting, credit repair services, or o...</td>\n",
              "      <td>Problem with a credit reporting company's inve...</td>\n",
              "      <td>Previously, on XX/XX/XXXX, XX/XX/XXXX, and XX/...</td>\n",
              "      <td>Experian Information Solutions Inc.</td>\n",
              "      <td>Web</td>\n",
              "      <td>2019-07-26</td>\n",
              "      <td>Closed with explanation</td>\n",
              "      <td>Yes</td>\n",
              "      <td>3319331</td>\n",
              "    </tr>\n",
              "    <tr>\n",
              "      <th>4</th>\n",
              "      <td>7</td>\n",
              "      <td>2019-07-08</td>\n",
              "      <td>Credit reporting, credit repair services, or o...</td>\n",
              "      <td>Problem with a credit reporting company's inve...</td>\n",
              "      <td>Hello This complaint is against the three cred...</td>\n",
              "      <td>TRANSUNION INTERMEDIATE HOLDINGS, INC.</td>\n",
              "      <td>Web</td>\n",
              "      <td>2019-07-08</td>\n",
              "      <td>Closed with explanation</td>\n",
              "      <td>Yes</td>\n",
              "      <td>3299394</td>\n",
              "    </tr>\n",
              "    <tr>\n",
              "      <th>...</th>\n",
              "      <td>...</td>\n",
              "      <td>...</td>\n",
              "      <td>...</td>\n",
              "      <td>...</td>\n",
              "      <td>...</td>\n",
              "      <td>...</td>\n",
              "      <td>...</td>\n",
              "      <td>...</td>\n",
              "      <td>...</td>\n",
              "      <td>...</td>\n",
              "      <td>...</td>\n",
              "    </tr>\n",
              "    <tr>\n",
              "      <th>636119</th>\n",
              "      <td>1869763</td>\n",
              "      <td>2016-07-11</td>\n",
              "      <td>Student loan or Consumer loan or Vehicle loan ...</td>\n",
              "      <td>Managing the loan or lease</td>\n",
              "      <td>I was on automatic payment for my car loan. In...</td>\n",
              "      <td>NISSAN MOTOR ACCEPTANCE CORPORATION</td>\n",
              "      <td>Web</td>\n",
              "      <td>2016-07-11</td>\n",
              "      <td>Closed with explanation</td>\n",
              "      <td>Yes</td>\n",
              "      <td>2007463</td>\n",
              "    </tr>\n",
              "    <tr>\n",
              "      <th>636120</th>\n",
              "      <td>1869764</td>\n",
              "      <td>2017-01-24</td>\n",
              "      <td>Debt collection</td>\n",
              "      <td>Communication tactics</td>\n",
              "      <td>I recieved a collections call from an unknown ...</td>\n",
              "      <td>CMRE Financial Services, Inc.</td>\n",
              "      <td>Web</td>\n",
              "      <td>2017-01-24</td>\n",
              "      <td>Closed with explanation</td>\n",
              "      <td>Yes</td>\n",
              "      <td>2308954</td>\n",
              "    </tr>\n",
              "    <tr>\n",
              "      <th>636121</th>\n",
              "      <td>1869765</td>\n",
              "      <td>2015-03-26</td>\n",
              "      <td>Mortgage</td>\n",
              "      <td>Loan servicing, payments, escrow account</td>\n",
              "      <td>On XXXX XXXX, 2015, I contacted XXXX XXXX, who...</td>\n",
              "      <td>Finance of America Mortgage LLC</td>\n",
              "      <td>Web</td>\n",
              "      <td>2015-03-26</td>\n",
              "      <td>Closed with monetary relief</td>\n",
              "      <td>Yes</td>\n",
              "      <td>1303324</td>\n",
              "    </tr>\n",
              "    <tr>\n",
              "      <th>636122</th>\n",
              "      <td>1869766</td>\n",
              "      <td>2015-12-12</td>\n",
              "      <td>Mortgage</td>\n",
              "      <td>Loan servicing, payments, escrow account</td>\n",
              "      <td>I can not get from chase who services my mortg...</td>\n",
              "      <td>JPMORGAN CHASE &amp; CO.</td>\n",
              "      <td>Web</td>\n",
              "      <td>2015-12-12</td>\n",
              "      <td>Closed with explanation</td>\n",
              "      <td>Yes</td>\n",
              "      <td>1694674</td>\n",
              "    </tr>\n",
              "    <tr>\n",
              "      <th>636123</th>\n",
              "      <td>1869767</td>\n",
              "      <td>2016-08-09</td>\n",
              "      <td>Credit card or prepaid card</td>\n",
              "      <td>Transaction issue</td>\n",
              "      <td>I made a payment to CITI XXXX Credit Card on X...</td>\n",
              "      <td>CITIBANK, N.A.</td>\n",
              "      <td>Web</td>\n",
              "      <td>2016-08-09</td>\n",
              "      <td>Closed with non-monetary relief</td>\n",
              "      <td>Yes</td>\n",
              "      <td>2053487</td>\n",
              "    </tr>\n",
              "  </tbody>\n",
              "</table>\n",
              "<p>636124 rows × 11 columns</p>\n",
              "</div>"
            ],
            "text/plain": [
              "          index Date received  ... Timely response? Complaint ID\n",
              "0             0    2019-09-24  ...              Yes      3384392\n",
              "1             2    2019-11-08  ...              Yes      3433198\n",
              "2             3    2019-09-15  ...              Yes      3374555\n",
              "3             6    2019-07-26  ...              Yes      3319331\n",
              "4             7    2019-07-08  ...              Yes      3299394\n",
              "...         ...           ...  ...              ...          ...\n",
              "636119  1869763    2016-07-11  ...              Yes      2007463\n",
              "636120  1869764    2017-01-24  ...              Yes      2308954\n",
              "636121  1869765    2015-03-26  ...              Yes      1303324\n",
              "636122  1869766    2015-12-12  ...              Yes      1694674\n",
              "636123  1869767    2016-08-09  ...              Yes      2053487\n",
              "\n",
              "[636124 rows x 11 columns]"
            ]
          },
          "metadata": {
            "tags": []
          },
          "execution_count": 28
        }
      ]
    },
    {
      "cell_type": "code",
      "metadata": {
        "colab": {
          "base_uri": "https://localhost:8080/"
        },
        "id": "MDakHIUx5OKi",
        "outputId": "86799463-ef10-43b1-f3b5-9c01df023cef"
      },
      "source": [
        "data['Submitted via'].value_counts()"
      ],
      "execution_count": 29,
      "outputs": [
        {
          "output_type": "execute_result",
          "data": {
            "text/plain": [
              "Web    636124\n",
              "Name: Submitted via, dtype: int64"
            ]
          },
          "metadata": {
            "tags": []
          },
          "execution_count": 29
        }
      ]
    },
    {
      "cell_type": "code",
      "metadata": {
        "colab": {
          "base_uri": "https://localhost:8080/"
        },
        "id": "vhZFByKj5osV",
        "outputId": "ab591d47-c034-4160-e09c-f83baac3685a"
      },
      "source": [
        "data['Company response to consumer'].value_counts()"
      ],
      "execution_count": 30,
      "outputs": [
        {
          "output_type": "execute_result",
          "data": {
            "text/plain": [
              "Closed with explanation            524944\n",
              "Closed with non-monetary relief     71986\n",
              "Closed with monetary relief         31860\n",
              "Closed                               3741\n",
              "Untimely response                    3575\n",
              "In progress                            18\n",
              "Name: Company response to consumer, dtype: int64"
            ]
          },
          "metadata": {
            "tags": []
          },
          "execution_count": 30
        }
      ]
    },
    {
      "cell_type": "code",
      "metadata": {
        "colab": {
          "base_uri": "https://localhost:8080/"
        },
        "id": "ZCIfCc1W5zTr",
        "outputId": "0fd4d26c-0090-4058-e9b5-7ff53074ac44"
      },
      "source": [
        "data['Timely response?'].value_counts()"
      ],
      "execution_count": 31,
      "outputs": [
        {
          "output_type": "execute_result",
          "data": {
            "text/plain": [
              "Yes    620840\n",
              "No      15284\n",
              "Name: Timely response?, dtype: int64"
            ]
          },
          "metadata": {
            "tags": []
          },
          "execution_count": 31
        }
      ]
    },
    {
      "cell_type": "code",
      "metadata": {
        "colab": {
          "base_uri": "https://localhost:8080/"
        },
        "id": "PfEkPKuN6Atr",
        "outputId": "9ec11b82-5f1d-42c3-cfd0-8cac46a616b4"
      },
      "source": [
        "data['Product'].value_counts()"
      ],
      "execution_count": 32,
      "outputs": [
        {
          "output_type": "execute_result",
          "data": {
            "text/plain": [
              "Credit reporting, credit repair services, or other personal consumer reports    224651\n",
              "Debt collection                                                                 128025\n",
              "Mortgage                                                                         71758\n",
              "Credit card or prepaid card                                                      66477\n",
              "Student loan or Consumer loan or Vehicle loan or other loans                     58230\n",
              "Credit reporting                                                                 31588\n",
              "Checking or savings account                                                      26888\n",
              "Bank account or service                                                          14885\n",
              "Money transfer, virtual currency, or money service                               13330\n",
              "Other financial service                                                            292\n",
              "Name: Product, dtype: int64"
            ]
          },
          "metadata": {
            "tags": []
          },
          "execution_count": 32
        }
      ]
    },
    {
      "cell_type": "code",
      "metadata": {
        "colab": {
          "base_uri": "https://localhost:8080/"
        },
        "id": "wdLwCYmT6HXl",
        "outputId": "c37ed30d-ba0e-4c28-a742-7fa8d58b0299"
      },
      "source": [
        "data['Company'].value_counts(sort=True, ascending=False).head(20)"
      ],
      "execution_count": 33,
      "outputs": [
        {
          "output_type": "execute_result",
          "data": {
            "text/plain": [
              "EQUIFAX, INC.                             72855\n",
              "Experian Information Solutions Inc.       69299\n",
              "TRANSUNION INTERMEDIATE HOLDINGS, INC.    65909\n",
              "CITIBANK, N.A.                            20177\n",
              "JPMORGAN CHASE & CO.                      19126\n",
              "WELLS FARGO & COMPANY                     19078\n",
              "BANK OF AMERICA, NATIONAL ASSOCIATION     19012\n",
              "CAPITAL ONE FINANCIAL CORPORATION         17208\n",
              "Navient Solutions, LLC.                   15340\n",
              "SYNCHRONY FINANCIAL                       11098\n",
              "AMERICAN EXPRESS COMPANY                   7201\n",
              "U.S. BANCORP                               6513\n",
              "Ocwen Financial Corporation                6175\n",
              "PORTFOLIO RECOVERY ASSOCIATES INC          6139\n",
              "NATIONSTAR MORTGAGE                        5879\n",
              "AES/PHEAA                                  5819\n",
              "DISCOVER BANK                              5020\n",
              "ENCORE CAPITAL GROUP INC.                  5006\n",
              "Alliance Data Card Services                4968\n",
              "PNC Bank N.A.                              4913\n",
              "Name: Company, dtype: int64"
            ]
          },
          "metadata": {
            "tags": []
          },
          "execution_count": 33
        }
      ]
    },
    {
      "cell_type": "code",
      "metadata": {
        "colab": {
          "base_uri": "https://localhost:8080/",
          "height": 745
        },
        "id": "CYycUvBI7iWP",
        "outputId": "8fc8d74f-2ddf-4d2d-8d75-6eebcf6ab0f2"
      },
      "source": [
        "plt.figure(figsize=(16,8))\r\n",
        "plt.xticks(rotation='90')\r\n",
        "plt.title(\"Sorted Frequency of complaints from each company\")\r\n",
        "sns.countplot(data=data, x='Company', order=data['Company'].value_counts(sort=True, ascending=False).head(20).index)\r\n",
        "plt.ylabel(\"Number of occurences\", fontsize=12)"
      ],
      "execution_count": 34,
      "outputs": [
        {
          "output_type": "execute_result",
          "data": {
            "text/plain": [
              "Text(0, 0.5, 'Number of occurences')"
            ]
          },
          "metadata": {
            "tags": []
          },
          "execution_count": 34
        },
        {
          "output_type": "display_data",
          "data": {
            "image/png": "[encoded data removed]",
            "text/plain": [
              "<Figure size 1152x576 with 1 Axes>"
            ]
          },
          "metadata": {
            "tags": [],
            "needs_background": "light"
          }
        }
      ]
    },
    {
      "cell_type": "markdown",
      "metadata": {
        "id": "ehX04fv_GHu-"
      },
      "source": [
        "**Text processing**"
      ]
    },
    {
      "cell_type": "code",
      "metadata": {
        "id": "vVMRdBEUHJNx"
      },
      "source": [
        "pd.set_option('display.max_colwidth', None)"
      ],
      "execution_count": 35,
      "outputs": []
    },
    {
      "cell_type": "code",
      "metadata": {
        "colab": {
          "base_uri": "https://localhost:8080/",
          "height": 69
        },
        "id": "7UeztUEuEZ_R",
        "outputId": "0189c806-ec7c-4d5f-9c40-4f977f647892"
      },
      "source": [
        "data['Consumer complaint narrative'][2]"
      ],
      "execution_count": 36,
      "outputs": [
        {
          "output_type": "execute_result",
          "data": {
            "application/vnd.google.colaboratory.intrinsic+json": {
              "type": "string"
            },
            "text/plain": [
              "'Over the past 2 weeks, I have been receiving excessive amounts of telephone calls from the company listed in this complaint. The calls occur between XXXX XXXX and XXXX XXXX to my cell and at my job. The company does not have the right to harass me at work and I want this to stop. It is extremely distracting to be told 5 times a day that I have a call from this collection agency while at work.'"
            ]
          },
          "metadata": {
            "tags": []
          },
          "execution_count": 36
        }
      ]
    },
    {
      "cell_type": "code",
      "metadata": {
        "colab": {
          "base_uri": "https://localhost:8080/"
        },
        "id": "kkwT3p0ZGT-r",
        "outputId": "563d25a3-b0fb-4c84-ebf1-8add5e58ea42"
      },
      "source": [
        "import string\r\n",
        "import re\r\n",
        "import nltk\r\n",
        "from nltk.corpus import stopwords\r\n",
        "nltk.download('punkt')\r\n",
        "nltk.download('stopwords')"
      ],
      "execution_count": 37,
      "outputs": [
        {
          "output_type": "stream",
          "text": [
            "[nltk_data] Downloading package punkt to /root/nltk_data...\n",
            "[nltk_data]   Unzipping tokenizers/punkt.zip.\n",
            "[nltk_data] Downloading package stopwords to /root/nltk_data...\n",
            "[nltk_data]   Unzipping corpora/stopwords.zip.\n"
          ],
          "name": "stdout"
        },
        {
          "output_type": "execute_result",
          "data": {
            "text/plain": [
              "True"
            ]
          },
          "metadata": {
            "tags": []
          },
          "execution_count": 37
        }
      ]
    },
    {
      "cell_type": "code",
      "metadata": {
        "id": "_AJnv88gHDQG"
      },
      "source": [
        " def Clean_Text(text):\r\n",
        "   punc = list(string.punctuation)\r\n",
        "   punc.remove('.')\r\n",
        "   stop_words = stopwords.words('english')\r\n",
        "   text = re.sub(r'[\\n|\\r|\\r\\n]+', ' ', text)\r\n",
        "   text = re.sub(r'[XX]+', '', text)\r\n",
        "   text = re.sub(r'[0-9]', '', text)\r\n",
        "   text = re.sub(r'//', '', text)\r\n",
        "   text = re.sub(r'{$.}', '', text)\r\n",
        "\r\n",
        "   text = [word for word in text.split() if word not in stop_words + punc]\r\n",
        "   text = ' '.join(text)\r\n",
        "   return text.lower()\r\n"
      ],
      "execution_count": 38,
      "outputs": []
    },
    {
      "cell_type": "code",
      "metadata": {
        "id": "EtY_gqymJ2Su"
      },
      "source": [
        "# data['Consumer complaint narrative'] = data['Consumer complaint narrative'].apply(Clean_Text)"
      ],
      "execution_count": 39,
      "outputs": []
    },
    {
      "cell_type": "code",
      "metadata": {
        "id": "yfT72kALKBq-"
      },
      "source": [
        "data.reset_index(inplace=True)"
      ],
      "execution_count": 40,
      "outputs": []
    },
    {
      "cell_type": "code",
      "metadata": {
        "colab": {
          "base_uri": "https://localhost:8080/",
          "height": 1000
        },
        "id": "pjQtTvool8Kf",
        "outputId": "365be188-b5b8-458e-9ede-9dfa50afbdb9"
      },
      "source": [
        "data.tail(5)"
      ],
      "execution_count": 41,
      "outputs": [
        {
          "output_type": "execute_result",
          "data": {
            "text/html": [
              "<div>\n",
              "<style scoped>\n",
              "    .dataframe tbody tr th:only-of-type {\n",
              "        vertical-align: middle;\n",
              "    }\n",
              "\n",
              "    .dataframe tbody tr th {\n",
              "        vertical-align: top;\n",
              "    }\n",
              "\n",
              "    .dataframe thead th {\n",
              "        text-align: right;\n",
              "    }\n",
              "</style>\n",
              "<table border=\"1\" class=\"dataframe\">\n",
              "  <thead>\n",
              "    <tr style=\"text-align: right;\">\n",
              "      <th></th>\n",
              "      <th>index</th>\n",
              "      <th>Date received</th>\n",
              "      <th>Product</th>\n",
              "      <th>Issue</th>\n",
              "      <th>Consumer complaint narrative</th>\n",
              "      <th>Company</th>\n",
              "      <th>Submitted via</th>\n",
              "      <th>Date sent to company</th>\n",
              "      <th>Company response to consumer</th>\n",
              "      <th>Timely response?</th>\n",
              "      <th>Complaint ID</th>\n",
              "    </tr>\n",
              "  </thead>\n",
              "  <tbody>\n",
              "    <tr>\n",
              "      <th>636119</th>\n",
              "      <td>1869763</td>\n",
              "      <td>2016-07-11</td>\n",
              "      <td>Student loan or Consumer loan or Vehicle loan or other loans</td>\n",
              "      <td>Managing the loan or lease</td>\n",
              "      <td>I was on automatic payment for my car loan. In fine print supposedly I do n't see it the final payment must be made by check. I did not get a notice until it was too late and now I am stuck with a negative mark on my credit report. We were never late for the entire loan. We also moved and the notice was delayed to us and we had our first baby not that they are excuses but if we paid on time all along and only had a small final payment how can that affect our credit.</td>\n",
              "      <td>NISSAN MOTOR ACCEPTANCE CORPORATION</td>\n",
              "      <td>Web</td>\n",
              "      <td>2016-07-11</td>\n",
              "      <td>Closed with explanation</td>\n",
              "      <td>Yes</td>\n",
              "      <td>2007463</td>\n",
              "    </tr>\n",
              "    <tr>\n",
              "      <th>636120</th>\n",
              "      <td>1869764</td>\n",
              "      <td>2017-01-24</td>\n",
              "      <td>Debt collection</td>\n",
              "      <td>Communication tactics</td>\n",
              "      <td>I recieved a collections call from an unknown company this morning while in the hospital. After being on hold for 10 minutes through an automated system where the recording told me to wait for a representative, I was hung up on and directed to the website. Their website ( http : //www.cmrefsi.com/ ) is not trusted and upon research, they seem to be a collection scam. I have no business nor have I authorized or agreed to any payments to this or any company or missed any payments to any outstanding accounts.</td>\n",
              "      <td>CMRE Financial Services, Inc.</td>\n",
              "      <td>Web</td>\n",
              "      <td>2017-01-24</td>\n",
              "      <td>Closed with explanation</td>\n",
              "      <td>Yes</td>\n",
              "      <td>2308954</td>\n",
              "    </tr>\n",
              "    <tr>\n",
              "      <th>636121</th>\n",
              "      <td>1869765</td>\n",
              "      <td>2015-03-26</td>\n",
              "      <td>Mortgage</td>\n",
              "      <td>Loan servicing, payments, escrow account</td>\n",
              "      <td>On XXXX XXXX, 2015, I contacted XXXX XXXX, who is a Branch Manager ( XXXX # XXXX ) with GATEWAY FUNDING, and learned I can lower my mortgage monthly payment from approximately {$2400.00} to {$2000.00}. I was ecstatic because I would have saved over {$400.00} each month. XXXX XXXX sent me via email the DETAILS OF TRANSACTION detailing I would pay that amount. During the escrow process on XXXX XXXX, I was instructed to wire {$690.00} and thought my application was completed. On XXXX XXXX, XXXX XXXX contacted me and stated it required me to pay an additional {$290.00} because certain expenses were overlooked by XXXX XXXX. I contacted XXXX XXXX about my additional expense to which he stated, GATEWAY FUNDING will refund {$290.00} back to me after I send in the money to complete the escrow process. \\n\\nI am complaining about XXXX issues : I learned my mortgage monthly payment was not {$2000.00} as promised by XXXX XXXX, but instead {$2200.00}, and I have not received my refund in the amount of {$290.00}, as promised by XXXX XXXX on XXXX XXXX. When I contacted him via telephone on XXXX XXXX about the monthly payment, he stated he made a mistake. I have contacted XXXX XXXX on XXXX occasions about the refund check. I contacted him via telephone on XXXX XXXX, which he stated he will issue the check on XXXX XXXX, the Friday after the application process was completed. I contacted him on XXXX XXXX, and he stated he would authorize the refund check. When I last contacted him on XXXX XXXX, I was told I should have already received it, then later verified by XXXX XXXX that he check has not been issued or delivered. \\n\\nIt is my belief XXXX XXXX is taking advantage of my lack of knowledge in the loan application process by informing me of his many years of outstanding services and a promise of lower month mortgage payment only to deceit me to benefit himself.</td>\n",
              "      <td>Finance of America Mortgage LLC</td>\n",
              "      <td>Web</td>\n",
              "      <td>2015-03-26</td>\n",
              "      <td>Closed with monetary relief</td>\n",
              "      <td>Yes</td>\n",
              "      <td>1303324</td>\n",
              "    </tr>\n",
              "    <tr>\n",
              "      <th>636122</th>\n",
              "      <td>1869766</td>\n",
              "      <td>2015-12-12</td>\n",
              "      <td>Mortgage</td>\n",
              "      <td>Loan servicing, payments, escrow account</td>\n",
              "      <td>I can not get from chase who services my mortgage, who owns it and who has original loan docs and signatures.</td>\n",
              "      <td>JPMORGAN CHASE &amp; CO.</td>\n",
              "      <td>Web</td>\n",
              "      <td>2015-12-12</td>\n",
              "      <td>Closed with explanation</td>\n",
              "      <td>Yes</td>\n",
              "      <td>1694674</td>\n",
              "    </tr>\n",
              "    <tr>\n",
              "      <th>636123</th>\n",
              "      <td>1869767</td>\n",
              "      <td>2016-08-09</td>\n",
              "      <td>Credit card or prepaid card</td>\n",
              "      <td>Transaction issue</td>\n",
              "      <td>I made a payment to CITI XXXX Credit Card on XXXX XXXX, 2016 using a CITI prepaid Debit Card issued to us from a furnace/air conditioning install. The payment was made over the phone with a representative from CITI Simplicity and I was given a conformation number to complete the call. I never say the payment post to my account so I called CITI back and they said there was no record of a payment being made on the XXXX of XXXX. I then spoke to several departments only to get the same answer that this never took place. I then filed a dispute with CITI XXXX XXXX and also called the CITI rebate card company and they immediately confirmed that the payment had been made and received on XXXX XXXX by CITI Credit Card on that date. We then had them email us proof of this transaction and sent it to CITI XXXX to go forward with the dispute. I received an email showing a few days later that my card balance was at XXXX {$.00} as this payment was for the remaining balance on the card and thought that the dispute had been resolved. Then yesterday on XXXX XXXX I received the email stating the dispute had been denied and the {$370.00} was put back onto my balance owed on the CITI XXXX XXXX. We Then called yesterday the XXXX of XXXX to have them re-open the dispute and I re-faxed the same proof along with a letter of explanation about the dispute to the Dispute Fax number for CITI XXXX and also mailed a copy to the Presidential office in South Dakota. Then after speaking with our furnace installer because CITI XXXX was not helping even after numerous attempts to resolve the matter I am contacting you to help in this case. I am not sure what else to do as this payment was made, it was received and our Rebate Card with CITI is at a {$0.00} balance so the money was received. Please help us.</td>\n",
              "      <td>CITIBANK, N.A.</td>\n",
              "      <td>Web</td>\n",
              "      <td>2016-08-09</td>\n",
              "      <td>Closed with non-monetary relief</td>\n",
              "      <td>Yes</td>\n",
              "      <td>2053487</td>\n",
              "    </tr>\n",
              "  </tbody>\n",
              "</table>\n",
              "</div>"
            ],
            "text/plain": [
              "          index Date received  ... Timely response? Complaint ID\n",
              "636119  1869763    2016-07-11  ...              Yes      2007463\n",
              "636120  1869764    2017-01-24  ...              Yes      2308954\n",
              "636121  1869765    2015-03-26  ...              Yes      1303324\n",
              "636122  1869766    2015-12-12  ...              Yes      1694674\n",
              "636123  1869767    2016-08-09  ...              Yes      2053487\n",
              "\n",
              "[5 rows x 11 columns]"
            ]
          },
          "metadata": {
            "tags": []
          },
          "execution_count": 41
        }
      ]
    },
    {
      "cell_type": "markdown",
      "metadata": {
        "id": "YEEotRNBFlcI"
      },
      "source": [
        "Initializing x and y variables "
      ]
    },
    {
      "cell_type": "code",
      "metadata": {
        "id": "id1o5PGm_AXv",
        "colab": {
          "base_uri": "https://localhost:8080/"
        },
        "outputId": "7da93c1a-4b84-4ea0-f4e1-e5c2dd8e0be0"
      },
      "source": [
        "x = data['Consumer complaint narrative']\r\n",
        "Y = data['Product']\r\n",
        "Y.value_counts()"
      ],
      "execution_count": 43,
      "outputs": [
        {
          "output_type": "execute_result",
          "data": {
            "text/plain": [
              "Credit reporting, credit repair services, or other personal consumer reports    224651\n",
              "Debt collection                                                                 128025\n",
              "Mortgage                                                                         71758\n",
              "Credit card or prepaid card                                                      66477\n",
              "Student loan or Consumer loan or Vehicle loan or other loans                     58230\n",
              "Credit reporting                                                                 31588\n",
              "Checking or savings account                                                      26888\n",
              "Bank account or service                                                          14885\n",
              "Money transfer, virtual currency, or money service                               13330\n",
              "Other financial service                                                            292\n",
              "Name: Product, dtype: int64"
            ]
          },
          "metadata": {
            "tags": []
          },
          "execution_count": 43
        }
      ]
    },
    {
      "cell_type": "code",
      "metadata": {
        "colab": {
          "base_uri": "https://localhost:8080/",
          "height": 238
        },
        "id": "sCcrL3kPV8pl",
        "outputId": "47282e86-d5bd-4aa4-e9c1-9ae8b25cf9b7"
      },
      "source": [
        "y = pd.get_dummies(Y,drop_first=True)\r\n",
        "y.head(5)"
      ],
      "execution_count": 44,
      "outputs": [
        {
          "output_type": "execute_result",
          "data": {
            "text/html": [
              "<div>\n",
              "<style scoped>\n",
              "    .dataframe tbody tr th:only-of-type {\n",
              "        vertical-align: middle;\n",
              "    }\n",
              "\n",
              "    .dataframe tbody tr th {\n",
              "        vertical-align: top;\n",
              "    }\n",
              "\n",
              "    .dataframe thead th {\n",
              "        text-align: right;\n",
              "    }\n",
              "</style>\n",
              "<table border=\"1\" class=\"dataframe\">\n",
              "  <thead>\n",
              "    <tr style=\"text-align: right;\">\n",
              "      <th></th>\n",
              "      <th>Checking or savings account</th>\n",
              "      <th>Credit card or prepaid card</th>\n",
              "      <th>Credit reporting</th>\n",
              "      <th>Credit reporting, credit repair services, or other personal consumer reports</th>\n",
              "      <th>Debt collection</th>\n",
              "      <th>Money transfer, virtual currency, or money service</th>\n",
              "      <th>Mortgage</th>\n",
              "      <th>Other financial service</th>\n",
              "      <th>Student loan or Consumer loan or Vehicle loan or other loans</th>\n",
              "    </tr>\n",
              "  </thead>\n",
              "  <tbody>\n",
              "    <tr>\n",
              "      <th>0</th>\n",
              "      <td>0</td>\n",
              "      <td>0</td>\n",
              "      <td>0</td>\n",
              "      <td>0</td>\n",
              "      <td>1</td>\n",
              "      <td>0</td>\n",
              "      <td>0</td>\n",
              "      <td>0</td>\n",
              "      <td>0</td>\n",
              "    </tr>\n",
              "    <tr>\n",
              "      <th>1</th>\n",
              "      <td>0</td>\n",
              "      <td>0</td>\n",
              "      <td>0</td>\n",
              "      <td>0</td>\n",
              "      <td>1</td>\n",
              "      <td>0</td>\n",
              "      <td>0</td>\n",
              "      <td>0</td>\n",
              "      <td>0</td>\n",
              "    </tr>\n",
              "    <tr>\n",
              "      <th>2</th>\n",
              "      <td>0</td>\n",
              "      <td>0</td>\n",
              "      <td>0</td>\n",
              "      <td>0</td>\n",
              "      <td>1</td>\n",
              "      <td>0</td>\n",
              "      <td>0</td>\n",
              "      <td>0</td>\n",
              "      <td>0</td>\n",
              "    </tr>\n",
              "    <tr>\n",
              "      <th>3</th>\n",
              "      <td>0</td>\n",
              "      <td>0</td>\n",
              "      <td>0</td>\n",
              "      <td>1</td>\n",
              "      <td>0</td>\n",
              "      <td>0</td>\n",
              "      <td>0</td>\n",
              "      <td>0</td>\n",
              "      <td>0</td>\n",
              "    </tr>\n",
              "    <tr>\n",
              "      <th>4</th>\n",
              "      <td>0</td>\n",
              "      <td>0</td>\n",
              "      <td>0</td>\n",
              "      <td>1</td>\n",
              "      <td>0</td>\n",
              "      <td>0</td>\n",
              "      <td>0</td>\n",
              "      <td>0</td>\n",
              "      <td>0</td>\n",
              "    </tr>\n",
              "  </tbody>\n",
              "</table>\n",
              "</div>"
            ],
            "text/plain": [
              "   Checking or savings account  ...  Student loan or Consumer loan or Vehicle loan or other loans\n",
              "0                            0  ...                                                             0\n",
              "1                            0  ...                                                             0\n",
              "2                            0  ...                                                             0\n",
              "3                            0  ...                                                             0\n",
              "4                            0  ...                                                             0\n",
              "\n",
              "[5 rows x 9 columns]"
            ]
          },
          "metadata": {
            "tags": []
          },
          "execution_count": 44
        }
      ]
    },
    {
      "cell_type": "code",
      "metadata": {
        "colab": {
          "base_uri": "https://localhost:8080/"
        },
        "id": "zxCvbDmuTFNf",
        "outputId": "835c14e7-9df0-4811-dffa-892fa355ffe9"
      },
      "source": [
        "y_cols =  y.columns.tolist()\r\n",
        "y_cols\r\n",
        "for col in y_cols:\r\n",
        "  print(col ,\":\", float((y[col].sum()/y.shape[0])*100),'%')\r\n"
      ],
      "execution_count": 48,
      "outputs": [
        {
          "output_type": "stream",
          "text": [
            "Checking or savings account : 4.226848853368211 %\n",
            "Credit card or prepaid card : 10.450321006596198 %\n",
            "Credit reporting : 4.9656985116109436 %\n",
            "Credit reporting, credit repair services, or other personal consumer reports : 35.315598845508106 %\n",
            "Debt collection : 20.1257930843672 %\n",
            "Money transfer, virtual currency, or money service : 2.095503392420346 %\n",
            "Mortgage : 11.280505058762127 %\n",
            "Other financial service : 0.045903000044016574 %\n",
            "Student loan or Consumer loan or Vehicle loan or other loans : 9.15387565946262 %\n"
          ],
          "name": "stdout"
        }
      ]
    },
    {
      "cell_type": "markdown",
      "metadata": {
        "id": "VyICHNCWZbkF"
      },
      "source": [
        "The data is having Imbalanced Dataset.\r\n"
      ]
    },
    {
      "cell_type": "code",
      "metadata": {
        "colab": {
          "base_uri": "https://localhost:8080/"
        },
        "id": "2PqkcWxTbuRq",
        "outputId": "8086900f-d23e-45fc-cfc4-bb33e297891d"
      },
      "source": [
        "x.shape , y.shape"
      ],
      "execution_count": 49,
      "outputs": [
        {
          "output_type": "execute_result",
          "data": {
            "text/plain": [
              "((636124,), (636124, 9))"
            ]
          },
          "metadata": {
            "tags": []
          },
          "execution_count": 49
        }
      ]
    },
    {
      "cell_type": "markdown",
      "metadata": {
        "id": "nVqSzKKxZlkj"
      },
      "source": [
        "**Handling the imbalanced Dataset** "
      ]
    },
    {
      "cell_type": "code",
      "metadata": {
        "colab": {
          "base_uri": "https://localhost:8080/",
          "height": 238
        },
        "id": "yLrlnA4KdykW",
        "outputId": "dc8e1884-9f94-4c03-f9fe-8596d0cd83c8"
      },
      "source": [
        "y.head()"
      ],
      "execution_count": 50,
      "outputs": [
        {
          "output_type": "execute_result",
          "data": {
            "text/html": [
              "<div>\n",
              "<style scoped>\n",
              "    .dataframe tbody tr th:only-of-type {\n",
              "        vertical-align: middle;\n",
              "    }\n",
              "\n",
              "    .dataframe tbody tr th {\n",
              "        vertical-align: top;\n",
              "    }\n",
              "\n",
              "    .dataframe thead th {\n",
              "        text-align: right;\n",
              "    }\n",
              "</style>\n",
              "<table border=\"1\" class=\"dataframe\">\n",
              "  <thead>\n",
              "    <tr style=\"text-align: right;\">\n",
              "      <th></th>\n",
              "      <th>Checking or savings account</th>\n",
              "      <th>Credit card or prepaid card</th>\n",
              "      <th>Credit reporting</th>\n",
              "      <th>Credit reporting, credit repair services, or other personal consumer reports</th>\n",
              "      <th>Debt collection</th>\n",
              "      <th>Money transfer, virtual currency, or money service</th>\n",
              "      <th>Mortgage</th>\n",
              "      <th>Other financial service</th>\n",
              "      <th>Student loan or Consumer loan or Vehicle loan or other loans</th>\n",
              "    </tr>\n",
              "  </thead>\n",
              "  <tbody>\n",
              "    <tr>\n",
              "      <th>0</th>\n",
              "      <td>0</td>\n",
              "      <td>0</td>\n",
              "      <td>0</td>\n",
              "      <td>0</td>\n",
              "      <td>1</td>\n",
              "      <td>0</td>\n",
              "      <td>0</td>\n",
              "      <td>0</td>\n",
              "      <td>0</td>\n",
              "    </tr>\n",
              "    <tr>\n",
              "      <th>1</th>\n",
              "      <td>0</td>\n",
              "      <td>0</td>\n",
              "      <td>0</td>\n",
              "      <td>0</td>\n",
              "      <td>1</td>\n",
              "      <td>0</td>\n",
              "      <td>0</td>\n",
              "      <td>0</td>\n",
              "      <td>0</td>\n",
              "    </tr>\n",
              "    <tr>\n",
              "      <th>2</th>\n",
              "      <td>0</td>\n",
              "      <td>0</td>\n",
              "      <td>0</td>\n",
              "      <td>0</td>\n",
              "      <td>1</td>\n",
              "      <td>0</td>\n",
              "      <td>0</td>\n",
              "      <td>0</td>\n",
              "      <td>0</td>\n",
              "    </tr>\n",
              "    <tr>\n",
              "      <th>3</th>\n",
              "      <td>0</td>\n",
              "      <td>0</td>\n",
              "      <td>0</td>\n",
              "      <td>1</td>\n",
              "      <td>0</td>\n",
              "      <td>0</td>\n",
              "      <td>0</td>\n",
              "      <td>0</td>\n",
              "      <td>0</td>\n",
              "    </tr>\n",
              "    <tr>\n",
              "      <th>4</th>\n",
              "      <td>0</td>\n",
              "      <td>0</td>\n",
              "      <td>0</td>\n",
              "      <td>1</td>\n",
              "      <td>0</td>\n",
              "      <td>0</td>\n",
              "      <td>0</td>\n",
              "      <td>0</td>\n",
              "      <td>0</td>\n",
              "    </tr>\n",
              "  </tbody>\n",
              "</table>\n",
              "</div>"
            ],
            "text/plain": [
              "   Checking or savings account  ...  Student loan or Consumer loan or Vehicle loan or other loans\n",
              "0                            0  ...                                                             0\n",
              "1                            0  ...                                                             0\n",
              "2                            0  ...                                                             0\n",
              "3                            0  ...                                                             0\n",
              "4                            0  ...                                                             0\n",
              "\n",
              "[5 rows x 9 columns]"
            ]
          },
          "metadata": {
            "tags": []
          },
          "execution_count": 50
        }
      ]
    },
    {
      "cell_type": "code",
      "metadata": {
        "id": "kG-ENfYzevD2"
      },
      "source": [
        "# pip install -U imbalanced-learn"
      ],
      "execution_count": null,
      "outputs": []
    },
    {
      "cell_type": "code",
      "metadata": {
        "colab": {
          "base_uri": "https://localhost:8080/",
          "height": 35
        },
        "id": "GKquZ5b-uuSP",
        "outputId": "b3276026-00d3-4142-85f4-0d16e7146c55"
      },
      "source": [
        "import imblearn\r\n",
        "imblearn.__version__\r\n"
      ],
      "execution_count": 51,
      "outputs": [
        {
          "output_type": "execute_result",
          "data": {
            "application/vnd.google.colaboratory.intrinsic+json": {
              "type": "string"
            },
            "text/plain": [
              "'0.4.3'"
            ]
          },
          "metadata": {
            "tags": []
          },
          "execution_count": 51
        }
      ]
    },
    {
      "cell_type": "code",
      "metadata": {
        "colab": {
          "base_uri": "https://localhost:8080/",
          "height": 35
        },
        "id": "Ze0FlV2G2fWo",
        "outputId": "78fbceea-5d21-44c9-c483-05d3ca4815ef"
      },
      "source": [
        "from sklearn.utils.multiclass import type_of_target\r\n",
        "type_of_target(y)"
      ],
      "execution_count": 52,
      "outputs": [
        {
          "output_type": "execute_result",
          "data": {
            "application/vnd.google.colaboratory.intrinsic+json": {
              "type": "string"
            },
            "text/plain": [
              "'multilabel-indicator'"
            ]
          },
          "metadata": {
            "tags": []
          },
          "execution_count": 52
        }
      ]
    },
    {
      "cell_type": "code",
      "metadata": {
        "id": "SjdYy47-XONL",
        "colab": {
          "base_uri": "https://localhost:8080/"
        },
        "outputId": "a02dac87-b300-43a7-b3b2-f5dcb7c2fbd4"
      },
      "source": [
        "from sklearn.model_selection import train_test_split\r\n",
        "\r\n",
        "x_train, x_test, y_train, y_test = train_test_split(x, y, test_size=0.2, random_state=42)\r\n",
        "\r\n",
        "x_train.shape, y_train.shape, x_test.shape,y_test.shape "
      ],
      "execution_count": 53,
      "outputs": [
        {
          "output_type": "execute_result",
          "data": {
            "text/plain": [
              "((508899,), (508899, 9), (127225,), (127225, 9))"
            ]
          },
          "metadata": {
            "tags": []
          },
          "execution_count": 53
        }
      ]
    },
    {
      "cell_type": "markdown",
      "metadata": {
        "id": "RdqzNQpn6jTR"
      },
      "source": [
        "**Convert text into Word Embeddings**"
      ]
    },
    {
      "cell_type": "code",
      "metadata": {
        "colab": {
          "base_uri": "https://localhost:8080/"
        },
        "id": "3jE0L6xjmBB9",
        "outputId": "3ea669af-4f6e-4aff-86ac-f43faeb283b6"
      },
      "source": [
        "# path  = /content/drive/MyDrive/Deep_learning/Datasets/Nlp_vectors_dataset/glove.6B.50d.txt\r\n",
        "\r\n",
        "from keras.preprocessing.text import Tokenizer\r\n",
        "from keras.preprocessing import sequence, text\r\n",
        "\r\n",
        "tokenizer = Tokenizer(num_words=10000)\r\n",
        "tokenizer.fit_on_texts(x_train)\r\n",
        "tokenizer.fit_on_texts(x_test)\r\n",
        "print(\"Found %s unique tokens\" %len(tokenizer.word_index))"
      ],
      "execution_count": 54,
      "outputs": [
        {
          "output_type": "stream",
          "text": [
            "Found 148967 unique tokens\n"
          ],
          "name": "stdout"
        }
      ]
    },
    {
      "cell_type": "code",
      "metadata": {
        "id": "EdeT8ucHAi9w"
      },
      "source": [
        "vocab_size = len(tokenizer.word_index) +1\r\n",
        "maxlen=200"
      ],
      "execution_count": 55,
      "outputs": []
    },
    {
      "cell_type": "code",
      "metadata": {
        "id": "g4lpAhzE_awZ"
      },
      "source": [
        "x_train = tokenizer.texts_to_sequences(x_train)\r\n",
        "x_test = tokenizer.texts_to_sequences(x_test)\r\n",
        "\r\n",
        "x_train = sequence.pad_sequences(x_train, padding='post', maxlen=maxlen )\r\n",
        "x_test = sequence.pad_sequences(x_test, padding='post', maxlen=maxlen )"
      ],
      "execution_count": 56,
      "outputs": []
    },
    {
      "cell_type": "code",
      "metadata": {
        "id": "AdIa0HkX7kTR"
      },
      "source": [
        "x_final = np.array(x_train)\r\n",
        "y_final = np.array(y_train)"
      ],
      "execution_count": 59,
      "outputs": []
    },
    {
      "cell_type": "code",
      "metadata": {
        "id": "OphL477yFAq0"
      },
      "source": [
        "x_test_final = np.array(x_test)\r\n",
        "y_test_final = np.array(y_test)"
      ],
      "execution_count": 86,
      "outputs": []
    },
    {
      "cell_type": "code",
      "metadata": {
        "colab": {
          "base_uri": "https://localhost:8080/"
        },
        "id": "HSBVLdXZ9wfQ",
        "outputId": "91fb3c09-04cf-4021-e707-4e4f39e66943"
      },
      "source": [
        "x_final.shape, y_final.shape"
      ],
      "execution_count": 64,
      "outputs": [
        {
          "output_type": "execute_result",
          "data": {
            "text/plain": [
              "((508899, 200), (508899, 9))"
            ]
          },
          "metadata": {
            "tags": []
          },
          "execution_count": 64
        }
      ]
    },
    {
      "cell_type": "markdown",
      "metadata": {
        "id": "jLlktbLw_NTz"
      },
      "source": [
        "# Resampling"
      ]
    },
    {
      "cell_type": "code",
      "metadata": {
        "id": "C8R4iD55Acyu"
      },
      "source": [
        "from imblearn.over_sampling import RandomOverSampler\r\n",
        "# sampling_strategy = {1 : 20000 , 2: 20000, 3}\r\n",
        "ros = RandomOverSampler(random_state=42, sampling_strategy='minority')\r\n",
        "xros_train, yros_train = ros.fit_sample(x_final,y_final)"
      ],
      "execution_count": 62,
      "outputs": []
    },
    {
      "cell_type": "code",
      "metadata": {
        "colab": {
          "base_uri": "https://localhost:8080/"
        },
        "id": "MHYoGkzd9oGy",
        "outputId": "d522085a-6277-47de-b3ce-872f31f833d3"
      },
      "source": [
        "xros_train.shape, yros_train.shape"
      ],
      "execution_count": 67,
      "outputs": [
        {
          "output_type": "execute_result",
          "data": {
            "text/plain": [
              "((688423, 200), (688423, 9))"
            ]
          },
          "metadata": {
            "tags": []
          },
          "execution_count": 67
        }
      ]
    },
    {
      "cell_type": "code",
      "metadata": {
        "id": "zuERUMK-7gZ2"
      },
      "source": [
        "from imblearn.under_sampling import RandomUnderSampler\r\n",
        "from collections import Counter\r\n",
        "import numpy as np\r\n",
        "\r\n",
        "ros = RandomUnderSampler(random_state=777, sampling_strategy='majority')\r\n",
        "xros_train, yros_train = ros.fit_sample(xros_train,yros_train)"
      ],
      "execution_count": 72,
      "outputs": []
    },
    {
      "cell_type": "code",
      "metadata": {
        "colab": {
          "base_uri": "https://localhost:8080/"
        },
        "id": "7HoNpn2R8rTK",
        "outputId": "b85adfc0-68ba-44c6-ae75-6f015392dff9"
      },
      "source": [
        "yros_train.shape"
      ],
      "execution_count": 73,
      "outputs": [
        {
          "output_type": "execute_result",
          "data": {
            "text/plain": [
              "(227436, 9)"
            ]
          },
          "metadata": {
            "tags": []
          },
          "execution_count": 73
        }
      ]
    },
    {
      "cell_type": "markdown",
      "metadata": {
        "id": "mmfgihAcC22F"
      },
      "source": [
        "# **Using GloVe word embeddings to convert text inputs to their numeric counterparts**"
      ]
    },
    {
      "cell_type": "markdown",
      "metadata": {
        "id": "-AOZVLcpQc1h"
      },
      "source": [
        "Note: When we take glove of 50 dim, then we need to intialize embedding_matrix of dimension 50"
      ]
    },
    {
      "cell_type": "code",
      "metadata": {
        "id": "421oollCAwGf"
      },
      "source": [
        "from numpy import array\r\n",
        "from numpy import asarray\r\n",
        "from numpy import zeros\r\n",
        "\r\n",
        "# Initialize a dictionary\r\n",
        "embeddings_dictionary = dict()\r\n",
        "\r\n",
        "# Load the glove file\r\n",
        "glove_file = open('/content/drive/MyDrive/Deep_learning/Datasets/Nlp_vectors_dataset/glove.6B.50d.txt', encoding='utf8')\r\n",
        "\r\n",
        "for line in glove_file:\r\n",
        "  records = line.split()\r\n",
        "  word = records[0]\r\n",
        "  vector_dimensions = asarray(records[1:], dtype='float32')\r\n",
        "  embeddings_dictionary[word] = vector_dimensions\r\n",
        "glove_file.close()\r\n",
        "\r\n",
        "# Initiliaze Embedding matrix\r\n",
        "embedding_matrix = zeros((vocab_size, 50))\r\n",
        "\r\n",
        "for word,index in tokenizer.word_index.items():\r\n",
        "  embedding_vector = embeddings_dictionary.get(word)\r\n",
        "  if embedding_vector is not None:\r\n",
        "    embedding_matrix[index] = embedding_vector\r\n",
        "\r\n",
        "\r\n"
      ],
      "execution_count": 74,
      "outputs": []
    },
    {
      "cell_type": "markdown",
      "metadata": {
        "id": "dADNdXgPRqhE"
      },
      "source": [
        "# **Create Model**"
      ]
    },
    {
      "cell_type": "code",
      "metadata": {
        "colab": {
          "base_uri": "https://localhost:8080/"
        },
        "id": "ToL7-T0SFROu",
        "outputId": "86197665-5b2d-4f9b-9307-7b7732e7e11c"
      },
      "source": [
        "from tensorflow.keras.models import Sequential\r\n",
        "from tensorflow.keras.layers import Embedding\r\n",
        "from tensorflow.keras.layers import Dropout\r\n",
        "from tensorflow.keras.layers import LSTM\r\n",
        "from tensorflow.keras.layers import Dense\r\n",
        "from tensorflow.keras.layers import Bidirectional\r\n",
        "\r\n",
        "model = Sequential()\r\n",
        "model.add(Embedding(vocab_size, 50, weights=[embedding_matrix],trainable=False))\r\n",
        "model.add(Dropout(.3))\r\n",
        "model.add(Bidirectional(LSTM(100)))\r\n",
        "model.add(Dropout(.3))\r\n",
        "model.add(Dense(9, activation='softmax'))\r\n",
        "model.compile(loss='categorical_crossentropy', optimizer='adam', metrics=['accuracy'])\r\n",
        "model.summary()"
      ],
      "execution_count": 75,
      "outputs": [
        {
          "output_type": "stream",
          "text": [
            "Model: \"sequential\"\n",
            "_________________________________________________________________\n",
            "Layer (type)                 Output Shape              Param #   \n",
            "=================================================================\n",
            "embedding (Embedding)        (None, None, 50)          7448400   \n",
            "_________________________________________________________________\n",
            "dropout (Dropout)            (None, None, 50)          0         \n",
            "_________________________________________________________________\n",
            "bidirectional (Bidirectional (None, 200)               120800    \n",
            "_________________________________________________________________\n",
            "dropout_1 (Dropout)          (None, 200)               0         \n",
            "_________________________________________________________________\n",
            "dense (Dense)                (None, 9)                 1809      \n",
            "=================================================================\n",
            "Total params: 7,571,009\n",
            "Trainable params: 122,609\n",
            "Non-trainable params: 7,448,400\n",
            "_________________________________________________________________\n"
          ],
          "name": "stdout"
        }
      ]
    },
    {
      "cell_type": "code",
      "metadata": {
        "colab": {
          "base_uri": "https://localhost:8080/"
        },
        "id": "-Vjo0HpYUvL5",
        "outputId": "337ceef3-99ca-47ad-9ce6-25caf209fdc3"
      },
      "source": [
        "model.fit(xros_train,yros_train, validation_split=0.1,batch_size=256, epochs=5)"
      ],
      "execution_count": 76,
      "outputs": [
        {
          "output_type": "stream",
          "text": [
            "Epoch 1/5\n",
            "800/800 [==============================] - 32s 39ms/step - loss: 1.0151 - accuracy: 0.6280 - val_loss: 0.8516 - val_accuracy: 0.6865\n",
            "Epoch 2/5\n",
            "800/800 [==============================] - 31s 39ms/step - loss: 0.6956 - accuracy: 0.7584 - val_loss: 0.7632 - val_accuracy: 0.7398\n",
            "Epoch 3/5\n",
            "800/800 [==============================] - 32s 40ms/step - loss: 0.6307 - accuracy: 0.7843 - val_loss: 0.8150 - val_accuracy: 0.7001\n",
            "Epoch 4/5\n",
            "800/800 [==============================] - 33s 41ms/step - loss: 0.5936 - accuracy: 0.7983 - val_loss: 0.5042 - val_accuracy: 0.8376\n",
            "Epoch 5/5\n",
            "800/800 [==============================] - 32s 40ms/step - loss: 0.5667 - accuracy: 0.8083 - val_loss: 0.6391 - val_accuracy: 0.7887\n"
          ],
          "name": "stdout"
        },
        {
          "output_type": "execute_result",
          "data": {
            "text/plain": [
              "<tensorflow.python.keras.callbacks.History at 0x7fe250161fd0>"
            ]
          },
          "metadata": {
            "tags": []
          },
          "execution_count": 76
        }
      ]
    },
    {
      "cell_type": "markdown",
      "metadata": {
        "id": "d4i2eTMuOF-o"
      },
      "source": [
        "Accuracy has improved after Resampling"
      ]
    },
    {
      "cell_type": "code",
      "metadata": {
        "colab": {
          "base_uri": "https://localhost:8080/"
        },
        "id": "UO2ChofTzCQj",
        "outputId": "3d86a01f-5596-454d-9476-a4b32e700716"
      },
      "source": [
        "from keras.callbacks import EarlyStopping\r\n",
        "\r\n",
        "epochs = 5\r\n",
        "batch_size = 64\r\n",
        "history = model.fit(xros_train, yros_train, epochs=epochs, validation_split=0.1, callbacks=[EarlyStopping(monitor ='val_loss', patience=3, min_delta=0.0001)])"
      ],
      "execution_count": 81,
      "outputs": [
        {
          "output_type": "stream",
          "text": [
            "Epoch 1/5\n",
            "6397/6397 [==============================] - 122s 19ms/step - loss: 0.5729 - accuracy: 0.8058 - val_loss: 0.6859 - val_accuracy: 0.7685\n",
            "Epoch 2/5\n",
            "6397/6397 [==============================] - 122s 19ms/step - loss: 0.5314 - accuracy: 0.8204 - val_loss: 0.5282 - val_accuracy: 0.8204\n",
            "Epoch 3/5\n",
            "6397/6397 [==============================] - 122s 19ms/step - loss: 0.5078 - accuracy: 0.8299 - val_loss: 0.4902 - val_accuracy: 0.8433\n",
            "Epoch 4/5\n",
            "6397/6397 [==============================] - 122s 19ms/step - loss: 0.4939 - accuracy: 0.8344 - val_loss: 0.7019 - val_accuracy: 0.7617\n",
            "Epoch 5/5\n",
            "6397/6397 [==============================] - 122s 19ms/step - loss: 0.4851 - accuracy: 0.8371 - val_loss: 0.5022 - val_accuracy: 0.8368\n"
          ],
          "name": "stdout"
        }
      ]
    },
    {
      "cell_type": "markdown",
      "metadata": {
        "id": "PgPSpXlaEus3"
      },
      "source": [
        "**Plot graph for loss w.r.t epoch value**"
      ]
    },
    {
      "cell_type": "code",
      "metadata": {
        "colab": {
          "base_uri": "https://localhost:8080/",
          "height": 312
        },
        "id": "WFmG75IK7rSv",
        "outputId": "76dd06e3-1f1a-4813-e65c-f11e79dad718"
      },
      "source": [
        "plt.title('Loss')\r\n",
        "plt.plot(history.history['loss'], label='train')\r\n",
        "plt.plot(history.history['val_loss'], label='test')\r\n",
        "plt.xlabel('epoch')\r\n",
        "plt.ylabel('Loss')\r\n",
        "plt.legend()"
      ],
      "execution_count": 92,
      "outputs": [
        {
          "output_type": "execute_result",
          "data": {
            "text/plain": [
              "<matplotlib.legend.Legend at 0x7fe1af95b2e8>"
            ]
          },
          "metadata": {
            "tags": []
          },
          "execution_count": 92
        },
        {
          "output_type": "display_data",
          "data": {
            "image/png": "[encoded data removed]",
            "text/plain": [
              "<Figure size 432x288 with 1 Axes>"
            ]
          },
          "metadata": {
            "tags": [],
            "needs_background": "light"
          }
        }
      ]
    },
    {
      "cell_type": "markdown",
      "metadata": {
        "id": "eNNNBhkLFIcF"
      },
      "source": [
        "Loss is decreasing with increase in epoch"
      ]
    },
    {
      "cell_type": "markdown",
      "metadata": {
        "id": "fxGYsJo2E7wt"
      },
      "source": [
        "**Plot graph for Accuracy w.r.t epoch value**"
      ]
    },
    {
      "cell_type": "code",
      "metadata": {
        "colab": {
          "base_uri": "https://localhost:8080/",
          "height": 295
        },
        "id": "byF2SngoDPnq",
        "outputId": "30d79a1a-16cb-436f-eeba-7d462e141590"
      },
      "source": [
        "plt.plot(history.history['accuracy'], label='train')\r\n",
        "plt.plot(history.history['val_accuracy'], label='test')\r\n",
        "plt.title('Accuracy')\r\n",
        "plt.xlabel('epoch')\r\n",
        "plt.ylabel('Accuracy')\r\n",
        "plt.legend()\r\n",
        "plt.show()"
      ],
      "execution_count": 93,
      "outputs": [
        {
          "output_type": "display_data",
          "data": {
            "image/png": "[encoded data removed]",
            "text/plain": [
              "<Figure size 432x288 with 1 Axes>"
            ]
          },
          "metadata": {
            "tags": [],
            "needs_background": "light"
          }
        }
      ]
    },
    {
      "cell_type": "code",
      "metadata": {
        "colab": {
          "base_uri": "https://localhost:8080/"
        },
        "id": "ZVIOAQd8EGpF",
        "outputId": "f0f291d9-0483-41c0-f3f6-882f79fdc517"
      },
      "source": [
        "import numpy as np\r\n",
        "\r\n",
        "new_complaint = ['I LEASED MY CAR ON XX/XX/XXXX AND MADE PAYMENTS UP TO XX/XX/XXXX WHEN MY VEHCILE WAS INVOLVED IN A FLOOD.AT THIS POINT INSURANCE SAID THAT THE CAR WAS TOTALED AND SAID THEY WILL TAKE CARE OF IT WITH THE LEASING COMPANY .AS OF XXXX XXXX XXXX ALL PAYMENTS WHERE MADE TO MY FINANCE COMPANY FROM MY INSURANCE COMPANY AND XXXX FURTHMORE, I RECEIVED AN ALERT XX/XX/XXXX ON MY CREDIT REORT THAT I AM 3 MONTHS BEHIND AND OWE {$1000.00}.']\r\n",
        "seq = tokenizer.texts_to_sequences(new_complaint)\r\n",
        "padded = sequence.pad_sequences(seq, maxlen=maxlen)\r\n",
        "pred = model.predict(padded)\r\n",
        "labels = ['Checking or savings account',\t'Credit card or prepaid card',\t'Credit reporting',\t'Credit reporting, credit repair services, or other personal consumer reports',\t'Debt collection',\t'Money transfer, virtual currency, or money service',\t'Mortgage',\t'Other financial service',\t'Student loan or Consumer loan or Vehicle loan or other loans']\r\n",
        "print(pred, labels[np.argmax(pred)])"
      ],
      "execution_count": 78,
      "outputs": [
        {
          "output_type": "stream",
          "text": [
            "[[3.2216555e-03 4.2442265e-03 2.5229794e-03 3.3572898e-04 2.7385610e-03\n",
            "  1.1004084e-03 3.5957973e-03 6.0400828e-03 9.7620058e-01]] Student loan or Consumer loan or Vehicle loan or other loans\n"
          ],
          "name": "stdout"
        }
      ]
    },
    {
      "cell_type": "code",
      "metadata": {
        "id": "_Ely5oxEK53E",
        "colab": {
          "base_uri": "https://localhost:8080/"
        },
        "outputId": "fa493b6c-a09b-4431-c611-1bf396b87a19"
      },
      "source": [
        "new_complaint = [\"\"\"I have been trying to get my Private Mortgage Insurance Removed from my mortgage since XX/XX/XXXX when my mortgage dropped below 80 % loan to value. Last year my mortgage was sold from XXXX XXXX  ( Under mortgage # XXXX ) to Ditech Mortgage ( account # XXXX ). I reached out to Ditech via a email ( after being told to do so via phone representative ) request to remove my PMI on mortgage on XX/XX/XXXX and received no response at all from them, I even checked my junk box and nothing was there. My mortgage papers that I signed state an Automatic Termination of PMI '' that states once my loan is below 78 % loan to value PMI will automatically terminate ( I have attached this document ). I reached out again today on XX/XX/XXXX to make this request via phone and was told initially to send the request that I already sent it too. I asked to speak with a supervisor and after being put on hold for about 30 minutes, I finally spoke to one. They told me that my loan to value must be under 70 % loan to value and that was their policy. After reading this document to the supervisor, I was told that \" they don't have that document on file ''. She ( XXXX XXXX ) sent me a link to send her the form I have. I did so and just told me that I'll be hearing from them in 7-10 business days. Given their past history, I highly doubt that I will hear from them. I did mention to the supervisor and ask her why they weren't staying compliant to the homeowners protection act and she said nothing. From my understand this act requires mortgage companies to drop off PMI once loans are below 78 % LTV and the loan is current. I qualify for both of those items and don't understand why this is such a difficult task.\"\"\"]\r\n",
        "seq = tokenizer.texts_to_sequences(new_complaint)\r\n",
        "padded = sequence.pad_sequences(seq, maxlen=maxlen)\r\n",
        "pred = model.predict(padded)\r\n",
        "labels = ['Checking or savings account',\t'Credit card or prepaid card',\t'Credit reporting',\t'Credit reporting, credit repair services, or other personal consumer reports',\t'Debt collection',\t'Money transfer, virtual currency, or money service',\t'Mortgage',\t'Other financial service',\t'Student loan or Consumer loan or Vehicle loan or other loans']\r\n",
        "print(pred, labels[np.argmax(pred)])"
      ],
      "execution_count": 80,
      "outputs": [
        {
          "output_type": "stream",
          "text": [
            "[[9.4165013e-04 6.1971857e-04 2.7717356e-04 6.4157302e-06 2.2415659e-05\n",
            "  2.3841590e-04 9.9221671e-01 3.8992326e-05 5.6384681e-03]] Mortgage\n"
          ],
          "name": "stdout"
        }
      ]
    },
    {
      "cell_type": "code",
      "metadata": {
        "id": "WiJxA9OdEYR3"
      },
      "source": [
        ""
      ],
      "execution_count": null,
      "outputs": []
    }
  ]
}