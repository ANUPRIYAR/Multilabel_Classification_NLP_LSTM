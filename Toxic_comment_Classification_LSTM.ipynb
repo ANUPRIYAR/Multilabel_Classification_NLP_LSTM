{
  "nbformat": 4,
  "nbformat_minor": 0,
  "metadata": {
    "colab": {
      "name": "Toxic_comment_Classification_LSTM.ipynb",
      "provenance": [],
      "mount_file_id": "1x_kaZbycIe3Wx88AjDLZFjRNpPcQhXic",
      "authorship_tag": "ABX9TyOj8+MlUIbtf9R3ZC80i7/9",
      "include_colab_link": true
    },
    "kernelspec": {
      "name": "python3",
      "display_name": "Python 3"
    },
    "accelerator": "GPU"
  },
  "cells": [
    {
      "cell_type": "markdown",
      "metadata": {
        "id": "view-in-github",
        "colab_type": "text"
      },
      "source": [
        "<a href=\"https://colab.research.google.com/github/ANUPRIYAR/Multilabel_Classification_NLP_LSTM/blob/main/Toxic_comment_Classification_LSTM.ipynb\" target=\"_parent\"><img src=\"https://colab.research.google.com/assets/colab-badge.svg\" alt=\"Open In Colab\"/></a>"
      ]
    },
    {
      "cell_type": "code",
      "metadata": {
        "id": "QxaBnOjlwMXx"
      },
      "source": [
        "from google.colab import drive"
      ],
      "execution_count": 1,
      "outputs": []
    },
    {
      "cell_type": "code",
      "metadata": {
        "colab": {
          "base_uri": "https://localhost:8080/"
        },
        "id": "Ub1Luh5Wx5UR",
        "outputId": "3fe67da4-c101-46e5-d9dc-ca2483edbb9d"
      },
      "source": [
        "!unzip /content/drive/MyDrive/Deep_learning/jigsaw-toxic-comment-classification-challenge.zip"
      ],
      "execution_count": 2,
      "outputs": [
        {
          "output_type": "stream",
          "text": [
            "Archive:  /content/drive/MyDrive/Deep_learning/jigsaw-toxic-comment-classification-challenge.zip\n",
            "  inflating: sample_submission.csv.zip  \n",
            "  inflating: test.csv.zip            \n",
            "  inflating: test_labels.csv.zip     \n",
            "  inflating: train.csv.zip           \n"
          ],
          "name": "stdout"
        }
      ]
    },
    {
      "cell_type": "code",
      "metadata": {
        "colab": {
          "base_uri": "https://localhost:8080/"
        },
        "id": "B-0p9yLzxlwf",
        "outputId": "b2233d29-f7e6-4dae-cd55-7c4372919221"
      },
      "source": [
        "import pandas as pd\r\n",
        "import re\r\n",
        "import nltk\r\n",
        "from nltk.tokenize import word_tokenize\r\n",
        "from nltk.corpus import stopwords\r\n",
        "nltk.download('punkt')\r\n",
        "nltk.download('stopwords')"
      ],
      "execution_count": 3,
      "outputs": [
        {
          "output_type": "stream",
          "text": [
            "[nltk_data] Downloading package punkt to /root/nltk_data...\n",
            "[nltk_data]   Unzipping tokenizers/punkt.zip.\n",
            "[nltk_data] Downloading package stopwords to /root/nltk_data...\n",
            "[nltk_data]   Unzipping corpora/stopwords.zip.\n"
          ],
          "name": "stdout"
        },
        {
          "output_type": "execute_result",
          "data": {
            "text/plain": [
              "True"
            ]
          },
          "metadata": {
            "tags": []
          },
          "execution_count": 3
        }
      ]
    },
    {
      "cell_type": "code",
      "metadata": {
        "colab": {
          "base_uri": "https://localhost:8080/",
          "height": 289
        },
        "id": "qEMXUn2R1VzA",
        "outputId": "f899999f-75be-4823-eea4-a7067560f571"
      },
      "source": [
        "data = pd.read_csv('/content/train.csv.zip')\r\n",
        "data.head()"
      ],
      "execution_count": 5,
      "outputs": [
        {
          "output_type": "execute_result",
          "data": {
            "text/html": [
              "<div>\n",
              "<style scoped>\n",
              "    .dataframe tbody tr th:only-of-type {\n",
              "        vertical-align: middle;\n",
              "    }\n",
              "\n",
              "    .dataframe tbody tr th {\n",
              "        vertical-align: top;\n",
              "    }\n",
              "\n",
              "    .dataframe thead th {\n",
              "        text-align: right;\n",
              "    }\n",
              "</style>\n",
              "<table border=\"1\" class=\"dataframe\">\n",
              "  <thead>\n",
              "    <tr style=\"text-align: right;\">\n",
              "      <th></th>\n",
              "      <th>id</th>\n",
              "      <th>comment_text</th>\n",
              "      <th>toxic</th>\n",
              "      <th>severe_toxic</th>\n",
              "      <th>obscene</th>\n",
              "      <th>threat</th>\n",
              "      <th>insult</th>\n",
              "      <th>identity_hate</th>\n",
              "    </tr>\n",
              "  </thead>\n",
              "  <tbody>\n",
              "    <tr>\n",
              "      <th>0</th>\n",
              "      <td>0000997932d777bf</td>\n",
              "      <td>Explanation\\nWhy the edits made under my usern...</td>\n",
              "      <td>0</td>\n",
              "      <td>0</td>\n",
              "      <td>0</td>\n",
              "      <td>0</td>\n",
              "      <td>0</td>\n",
              "      <td>0</td>\n",
              "    </tr>\n",
              "    <tr>\n",
              "      <th>1</th>\n",
              "      <td>000103f0d9cfb60f</td>\n",
              "      <td>D'aww! He matches this background colour I'm s...</td>\n",
              "      <td>0</td>\n",
              "      <td>0</td>\n",
              "      <td>0</td>\n",
              "      <td>0</td>\n",
              "      <td>0</td>\n",
              "      <td>0</td>\n",
              "    </tr>\n",
              "    <tr>\n",
              "      <th>2</th>\n",
              "      <td>000113f07ec002fd</td>\n",
              "      <td>Hey man, I'm really not trying to edit war. It...</td>\n",
              "      <td>0</td>\n",
              "      <td>0</td>\n",
              "      <td>0</td>\n",
              "      <td>0</td>\n",
              "      <td>0</td>\n",
              "      <td>0</td>\n",
              "    </tr>\n",
              "    <tr>\n",
              "      <th>3</th>\n",
              "      <td>0001b41b1c6bb37e</td>\n",
              "      <td>\"\\nMore\\nI can't make any real suggestions on ...</td>\n",
              "      <td>0</td>\n",
              "      <td>0</td>\n",
              "      <td>0</td>\n",
              "      <td>0</td>\n",
              "      <td>0</td>\n",
              "      <td>0</td>\n",
              "    </tr>\n",
              "    <tr>\n",
              "      <th>4</th>\n",
              "      <td>0001d958c54c6e35</td>\n",
              "      <td>You, sir, are my hero. Any chance you remember...</td>\n",
              "      <td>0</td>\n",
              "      <td>0</td>\n",
              "      <td>0</td>\n",
              "      <td>0</td>\n",
              "      <td>0</td>\n",
              "      <td>0</td>\n",
              "    </tr>\n",
              "  </tbody>\n",
              "</table>\n",
              "</div>"
            ],
            "text/plain": [
              "                 id  ... identity_hate\n",
              "0  0000997932d777bf  ...             0\n",
              "1  000103f0d9cfb60f  ...             0\n",
              "2  000113f07ec002fd  ...             0\n",
              "3  0001b41b1c6bb37e  ...             0\n",
              "4  0001d958c54c6e35  ...             0\n",
              "\n",
              "[5 rows x 8 columns]"
            ]
          },
          "metadata": {
            "tags": []
          },
          "execution_count": 5
        }
      ]
    },
    {
      "cell_type": "code",
      "metadata": {
        "colab": {
          "base_uri": "https://localhost:8080/"
        },
        "id": "TwWogbquclrt",
        "outputId": "fc4b899b-0736-48ea-99d3-2064d76dc73d"
      },
      "source": [
        "data.shape"
      ],
      "execution_count": 6,
      "outputs": [
        {
          "output_type": "execute_result",
          "data": {
            "text/plain": [
              "(159571, 8)"
            ]
          },
          "metadata": {
            "tags": []
          },
          "execution_count": 6
        }
      ]
    },
    {
      "cell_type": "code",
      "metadata": {
        "id": "DocucXHUgQP5",
        "colab": {
          "base_uri": "https://localhost:8080/"
        },
        "outputId": "b923456a-5b3a-4c01-ff40-c0655bc9b6d3"
      },
      "source": [
        "data.comment_text = data.comment_text.astype('string')\r\n",
        "data.dtypes"
      ],
      "execution_count": 7,
      "outputs": [
        {
          "output_type": "execute_result",
          "data": {
            "text/plain": [
              "id               object\n",
              "comment_text     string\n",
              "toxic             int64\n",
              "severe_toxic      int64\n",
              "obscene           int64\n",
              "threat            int64\n",
              "insult            int64\n",
              "identity_hate     int64\n",
              "dtype: object"
            ]
          },
          "metadata": {
            "tags": []
          },
          "execution_count": 7
        }
      ]
    },
    {
      "cell_type": "code",
      "metadata": {
        "colab": {
          "base_uri": "https://localhost:8080/"
        },
        "id": "EX_GMGvXz6lY",
        "outputId": "54470b68-7c82-4a5b-b6cc-b4e299fbd0de"
      },
      "source": [
        "data.isnull().sum()"
      ],
      "execution_count": 8,
      "outputs": [
        {
          "output_type": "execute_result",
          "data": {
            "text/plain": [
              "id               0\n",
              "comment_text     0\n",
              "toxic            0\n",
              "severe_toxic     0\n",
              "obscene          0\n",
              "threat           0\n",
              "insult           0\n",
              "identity_hate    0\n",
              "dtype: int64"
            ]
          },
          "metadata": {
            "tags": []
          },
          "execution_count": 8
        }
      ]
    },
    {
      "cell_type": "code",
      "metadata": {
        "id": "7J4tm2n50l-f"
      },
      "source": [
        "import nltk\r\n",
        "from nltk.tokenize import word_tokenize\r\n",
        "import string"
      ],
      "execution_count": 9,
      "outputs": []
    },
    {
      "cell_type": "markdown",
      "metadata": {
        "id": "JPETZDEDMFni"
      },
      "source": [
        "**Clean the text**"
      ]
    },
    {
      "cell_type": "code",
      "metadata": {
        "id": "-yHNw_Ig1EQN"
      },
      "source": [
        "def clean_text(text):\r\n",
        "  punc_chars = list(string.punctuation)\r\n",
        "  punc_chars.remove('.')\r\n",
        "  stop_words = stopwords.words('english')\r\n",
        "  extra_chars = punc_chars + stop_words\r\n",
        "\r\n",
        "  # Clean the text\r\n",
        "  text = re.sub(r'[\\r|\\n|\\r\\n]+',' ',text)\r\n",
        "  text = re.sub('[0-9]', '', text)\r\n",
        "  text =[word for word in word_tokenize(text) if word not in punc_chars + stop_words]\r\n",
        "  text = ' '.join(text)\r\n",
        "  text.lower()\r\n",
        "  return text"
      ],
      "execution_count": 10,
      "outputs": []
    },
    {
      "cell_type": "code",
      "metadata": {
        "id": "TzEY9wv33LJw"
      },
      "source": [
        "data['comment_text'] = data['comment_text'].apply(clean_text)"
      ],
      "execution_count": 11,
      "outputs": []
    },
    {
      "cell_type": "code",
      "metadata": {
        "colab": {
          "base_uri": "https://localhost:8080/",
          "height": 52
        },
        "id": "_cpYi-CQ3n7W",
        "outputId": "7ef514f9-9d7f-48fd-b2ad-11776b3b062a"
      },
      "source": [
        "data['comment_text'][2]"
      ],
      "execution_count": 12,
      "outputs": [
        {
          "output_type": "execute_result",
          "data": {
            "application/vnd.google.colaboratory.intrinsic+json": {
              "type": "string"
            },
            "text/plain": [
              "\"Hey man I 'm really trying edit war . It 's guy constantly removing relevant information talking edits instead talk page . He seems care formatting actual info .\""
            ]
          },
          "metadata": {
            "tags": []
          },
          "execution_count": 12
        }
      ]
    },
    {
      "cell_type": "markdown",
      "metadata": {
        "id": "C1NiuNMCvmdB"
      },
      "source": [
        "**Obtain x and y variables from the dataframes**"
      ]
    },
    {
      "cell_type": "code",
      "metadata": {
        "id": "J1_Pyimg5LUp"
      },
      "source": [
        "Comments = data.comment_text.values\r\n",
        "y_fields = ['toxic',\t'severe_toxic',\t'obscene'\t,'threat',\t'insult'\t,'identity_hate']\r\n",
        "y = data[y_fields].values"
      ],
      "execution_count": 13,
      "outputs": []
    },
    {
      "cell_type": "code",
      "metadata": {
        "id": "dczqjSJyxrb6"
      },
      "source": [
        "# Processing test files\r\n",
        "test_x = pd.read_csv('/content/test.csv.zip')\r\n",
        "test_y = pd.read_csv('/content/test_labels.csv.zip')"
      ],
      "execution_count": 14,
      "outputs": []
    },
    {
      "cell_type": "code",
      "metadata": {
        "id": "5UbungVOvrBd"
      },
      "source": [
        "x_test = test_x['comment_text'].values\r\n",
        "y_test = test_y[y_fields].values"
      ],
      "execution_count": 15,
      "outputs": []
    },
    {
      "cell_type": "markdown",
      "metadata": {
        "id": "gQyObiYZwuQM"
      },
      "source": [
        "**Tokenization**"
      ]
    },
    {
      "cell_type": "code",
      "metadata": {
        "id": "e9j3Bvh6NOwb"
      },
      "source": [
        "from keras.preprocessing.text import Tokenizer\r\n",
        "\r\n",
        "tokenizer = Tokenizer(num_words=10000)\r\n",
        "tokenizer.fit_on_texts(Comments)\r\n",
        "\r\n",
        "# Tokenization of x_test\r\n",
        "tokenizer.fit_on_texts(x_test)"
      ],
      "execution_count": 16,
      "outputs": []
    },
    {
      "cell_type": "markdown",
      "metadata": {
        "id": "w7zuKn0nKrAZ"
      },
      "source": [
        "**Text preprocessing**"
      ]
    },
    {
      "cell_type": "code",
      "metadata": {
        "id": "be3txm7d3gdo"
      },
      "source": [
        "sent_length = 100\r\n",
        "voc_size = 10000\r\n",
        "input_dim = 10"
      ],
      "execution_count": 17,
      "outputs": []
    },
    {
      "cell_type": "code",
      "metadata": {
        "id": "QakvpaVux5xD"
      },
      "source": [
        "from keras.preprocessing import text, sequence\r\n",
        "\r\n",
        "seq = tokenizer.texts_to_sequences(Comments)\r\n",
        "pad = sequence.pad_sequences(seq, maxlen=100)\r\n",
        "\r\n",
        "test_seq = tokenizer.texts_to_sequences(x_test)\r\n",
        "test_pad = sequence.pad_sequences(test_seq, maxlen=100)"
      ],
      "execution_count": 18,
      "outputs": []
    },
    {
      "cell_type": "markdown",
      "metadata": {
        "id": "-zs2LDslLElw"
      },
      "source": [
        "**Create the model**\r\n",
        "\r\n"
      ]
    },
    {
      "cell_type": "code",
      "metadata": {
        "colab": {
          "base_uri": "https://localhost:8080/"
        },
        "id": "upoy4KRF6kKC",
        "outputId": "4caa1ccc-71ec-4c70-c9a5-a4106a338c3f"
      },
      "source": [
        "from tensorflow.keras.models import Sequential\n",
        "from tensorflow.keras.layers import Embedding\n",
        "from tensorflow.keras.layers import LSTM\n",
        "from tensorflow.keras.layers import Dense\n",
        "\n",
        "model = Sequential()\n",
        "model.add(Embedding(voc_size, input_dim, input_length=sent_length))\n",
        "model.add(LSTM(128))\n",
        "model.add(Dense(6, activation='sigmoid'))\n",
        "model.compile(loss='categorical_crossentropy', optimizer='Adam', metrics=['accuracy'])\n",
        "model.summary()"
      ],
      "execution_count": 27,
      "outputs": [
        {
          "output_type": "stream",
          "text": [
            "Model: \"sequential_1\"\n",
            "_________________________________________________________________\n",
            "Layer (type)                 Output Shape              Param #   \n",
            "=================================================================\n",
            "embedding_1 (Embedding)      (None, 100, 10)           100000    \n",
            "_________________________________________________________________\n",
            "lstm_1 (LSTM)                (None, 128)               71168     \n",
            "_________________________________________________________________\n",
            "dense_1 (Dense)              (None, 6)                 774       \n",
            "=================================================================\n",
            "Total params: 171,942\n",
            "Trainable params: 171,942\n",
            "Non-trainable params: 0\n",
            "_________________________________________________________________\n"
          ],
          "name": "stdout"
        }
      ]
    },
    {
      "cell_type": "code",
      "metadata": {
        "colab": {
          "base_uri": "https://localhost:8080/"
        },
        "id": "VK4vR9QU8shd",
        "outputId": "469046d1-6962-497b-8216-038f5934456e"
      },
      "source": [
        "len(pad), y.shape , len(test_pad), y_test.shape"
      ],
      "execution_count": 20,
      "outputs": [
        {
          "output_type": "execute_result",
          "data": {
            "text/plain": [
              "(159571, (159571, 6), 153164, (153164, 6))"
            ]
          },
          "metadata": {
            "tags": []
          },
          "execution_count": 20
        }
      ]
    },
    {
      "cell_type": "code",
      "metadata": {
        "id": "YOgVpiBDPDAS"
      },
      "source": [
        "import numpy as np\r\n",
        "x_train = np.array(pad)\r\n",
        "y_train = np.array(y)\r\n",
        "\r\n",
        "x_test = np.array(test_pad)\r\n",
        "y_test = np.array(y_test)"
      ],
      "execution_count": 21,
      "outputs": []
    },
    {
      "cell_type": "code",
      "metadata": {
        "colab": {
          "base_uri": "https://localhost:8080/"
        },
        "id": "CjbUGnlJPWuc",
        "outputId": "a23144ed-a30f-4392-a792-8b329ef0e101"
      },
      "source": [
        "x_train.shape , y_train.shape , x_test.shape, y_test.shape"
      ],
      "execution_count": 22,
      "outputs": [
        {
          "output_type": "execute_result",
          "data": {
            "text/plain": [
              "((159571, 100), (159571, 6), (153164, 100), (153164, 6))"
            ]
          },
          "metadata": {
            "tags": []
          },
          "execution_count": 22
        }
      ]
    },
    {
      "cell_type": "markdown",
      "metadata": {
        "id": "Zz8-wam4LJwP"
      },
      "source": [
        "**Train the model**"
      ]
    },
    {
      "cell_type": "code",
      "metadata": {
        "colab": {
          "base_uri": "https://localhost:8080/"
        },
        "id": "6OA8o3iLPaiY",
        "outputId": "576436eb-b40f-43f2-9790-b7f4c8e95dcc"
      },
      "source": [
        "# Fit on model\r\n",
        "model.fit(x_train,y_train, validation_data=(x_test,y_test), epochs=5, batch_size=64)"
      ],
      "execution_count": 28,
      "outputs": [
        {
          "output_type": "stream",
          "text": [
            "Epoch 1/5\n",
            "2494/2494 [==============================] - 30s 12ms/step - loss: 0.2976 - accuracy: 0.9917 - val_loss: -9.9065 - val_accuracy: 0.9884\n",
            "Epoch 2/5\n",
            "2494/2494 [==============================] - 30s 12ms/step - loss: 0.2833 - accuracy: 0.9888 - val_loss: -9.4995 - val_accuracy: 0.9990\n",
            "Epoch 3/5\n",
            "2494/2494 [==============================] - 30s 12ms/step - loss: 0.2730 - accuracy: 0.9925 - val_loss: -11.6261 - val_accuracy: 0.9961\n",
            "Epoch 4/5\n",
            "2494/2494 [==============================] - 30s 12ms/step - loss: 0.2653 - accuracy: 0.9879 - val_loss: -11.2115 - val_accuracy: 0.9948\n",
            "Epoch 5/5\n",
            "2494/2494 [==============================] - 30s 12ms/step - loss: 0.2593 - accuracy: 0.9899 - val_loss: -12.3003 - val_accuracy: 0.9989\n"
          ],
          "name": "stdout"
        },
        {
          "output_type": "execute_result",
          "data": {
            "text/plain": [
              "<tensorflow.python.keras.callbacks.History at 0x7f93d0d35630>"
            ]
          },
          "metadata": {
            "tags": []
          },
          "execution_count": 28
        }
      ]
    },
    {
      "cell_type": "code",
      "metadata": {
        "colab": {
          "base_uri": "https://localhost:8080/"
        },
        "id": "8-f0-mLQ5Ts1",
        "outputId": "998da559-9c18-47bb-e622-5a5207873743"
      },
      "source": [
        "model.evaluate(x_test, y_test, batch_size=32, verbose=2)"
      ],
      "execution_count": 29,
      "outputs": [
        {
          "output_type": "stream",
          "text": [
            "4787/4787 - 16s - loss: -1.2300e+01 - accuracy: 0.9989\n"
          ],
          "name": "stdout"
        },
        {
          "output_type": "execute_result",
          "data": {
            "text/plain": [
              "[-12.30030632019043, 0.9989357590675354]"
            ]
          },
          "metadata": {
            "tags": []
          },
          "execution_count": 29
        }
      ]
    },
    {
      "cell_type": "code",
      "metadata": {
        "id": "nllwURhh5dag"
      },
      "source": [
        "# To save the model\r\n",
        "model.save('LSTM_model.h5')\r\n",
        "\r\n"
      ],
      "execution_count": 30,
      "outputs": []
    },
    {
      "cell_type": "markdown",
      "metadata": {
        "id": "lx7bYy4xwTtL"
      },
      "source": [
        "**Add Dropout**"
      ]
    },
    {
      "cell_type": "code",
      "metadata": {
        "id": "-3oTxLAvwZfl"
      },
      "source": [
        "from tensorflow.keras.layers import Dropout\r\n",
        "\r\n",
        "model = Sequential()\r\n",
        "model.add(Embedding(voc_size, input_dim, input_length=sent_length ))\r\n",
        "model.add(Dropout(.3))\r\n",
        "model.add(LSTM(100))\r\n",
        "model.add(Dropout(.3))\r\n",
        "model.add(Dense(6, activation='softmax'))\r\n",
        "model.compile(loss='binary_crossentropy', optimizer='adam', metrics=['accuracy'])"
      ],
      "execution_count": 31,
      "outputs": []
    },
    {
      "cell_type": "markdown",
      "metadata": {
        "id": "wmIsLBbb7tyK"
      },
      "source": [
        "**Loading the previous model**"
      ]
    },
    {
      "cell_type": "code",
      "metadata": {
        "colab": {
          "base_uri": "https://localhost:8080/"
        },
        "id": "UYhs3Ehp7tW_",
        "outputId": "41f4fa91-08f9-411e-96fe-f742c1121c7f"
      },
      "source": [
        "from keras.models import load_model\r\n",
        "\r\n",
        "# To load the model\r\n",
        "load_model('LSTM_model.h5')"
      ],
      "execution_count": 37,
      "outputs": [
        {
          "output_type": "execute_result",
          "data": {
            "text/plain": [
              "<tensorflow.python.keras.engine.sequential.Sequential at 0x7f93d0598c50>"
            ]
          },
          "metadata": {
            "tags": []
          },
          "execution_count": 37
        }
      ]
    }
  ]
}